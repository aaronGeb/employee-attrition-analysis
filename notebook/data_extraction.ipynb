{
 "cells": [
  {
   "cell_type": "markdown",
   "metadata": {
    "slideshow": {
     "slide_type": "slide"
    }
   },
   "source": [
    "## Project: HR Analytics Employee Attrition & Performance.\n",
    "## Analyzed By: Aaron\n",
    "\n",
    "#### Table of Content\n",
    "\n",
    "#### Introduction\n",
    "- Wrangling the dataset thought the following process\n",
    "  \n",
    "   - Gathering dataset\n",
    "   - Assessing the dataset\n",
    "   - Cleaning the dataset\n",
    "- Analyzing and visualization the dataset\n",
    "- Reporting\n",
    "  - Data analysis and visualization\n",
    "   \n"
   ]
  },
  {
   "cell_type": "code",
   "execution_count": 93,
   "metadata": {
    "slideshow": {
     "slide_type": "skip"
    },
    "tags": []
   },
   "outputs": [],
   "source": [
    "import os\n",
    "import kagglehub\n",
    "import zipfile\n",
    "import pandas as pd\n",
    "import numpy as np\n",
    "import matplotlib.pyplot as plt\n",
    "import seaborn as sns\n",
    "from pandas import DataFrame\n",
    "from typing import  Optional\n",
    "from scipy.stats import zscore\n"
   ]
  },
  {
   "cell_type": "markdown",
   "metadata": {
    "slideshow": {
     "slide_type": "slide"
    }
   },
   "source": [
    "### Load the dataset"
   ]
  },
  {
   "cell_type": "code",
   "execution_count": 94,
   "metadata": {
    "slideshow": {
     "slide_type": "skip"
    }
   },
   "outputs": [
    {
     "name": "stdout",
     "output_type": "stream",
     "text": [
      "Dataset files are extracted to: ../data/\n"
     ]
    },
    {
     "name": "stderr",
     "output_type": "stream",
     "text": [
      "sh: kaggle: command not found\n"
     ]
    }
   ],
   "source": [
    "# Ensure the target directory exists\n",
    "download_path = \"../data/\"\n",
    "os.makedirs(download_path, exist_ok=True)\n",
    "\n",
    "# Download the dataset\n",
    "os.system(f'kaggle datasets download -d pavansubhasht/ibm-hr-analytics-attrition-dataset -p {download_path}')\n",
    "\n",
    "# Unzip the downloaded file\n",
    "with zipfile.ZipFile(f\"{download_path}/ibm-hr-analytics-attrition-dataset.zip\", 'r') as zip_ref:\n",
    "    zip_ref.extractall(download_path)\n",
    "\n",
    "print(f\"Dataset files are extracted to: {download_path}\")"
   ]
  },
  {
   "cell_type": "markdown",
   "metadata": {
    "slideshow": {
     "slide_type": "skip"
    }
   },
   "source": [
    "### Data Preparation."
   ]
  },
  {
   "cell_type": "code",
   "execution_count": 95,
   "metadata": {
    "slideshow": {
     "slide_type": "skip"
    }
   },
   "outputs": [
    {
     "data": {
      "text/html": [
       "<div>\n",
       "<style scoped>\n",
       "    .dataframe tbody tr th:only-of-type {\n",
       "        vertical-align: middle;\n",
       "    }\n",
       "\n",
       "    .dataframe tbody tr th {\n",
       "        vertical-align: top;\n",
       "    }\n",
       "\n",
       "    .dataframe thead th {\n",
       "        text-align: right;\n",
       "    }\n",
       "</style>\n",
       "<table border=\"1\" class=\"dataframe\">\n",
       "  <thead>\n",
       "    <tr style=\"text-align: right;\">\n",
       "      <th></th>\n",
       "      <th>Age</th>\n",
       "      <th>Attrition</th>\n",
       "      <th>BusinessTravel</th>\n",
       "      <th>DailyRate</th>\n",
       "      <th>Department</th>\n",
       "      <th>DistanceFromHome</th>\n",
       "      <th>Education</th>\n",
       "      <th>EducationField</th>\n",
       "      <th>EmployeeCount</th>\n",
       "      <th>EmployeeNumber</th>\n",
       "      <th>...</th>\n",
       "      <th>RelationshipSatisfaction</th>\n",
       "      <th>StandardHours</th>\n",
       "      <th>StockOptionLevel</th>\n",
       "      <th>TotalWorkingYears</th>\n",
       "      <th>TrainingTimesLastYear</th>\n",
       "      <th>WorkLifeBalance</th>\n",
       "      <th>YearsAtCompany</th>\n",
       "      <th>YearsInCurrentRole</th>\n",
       "      <th>YearsSinceLastPromotion</th>\n",
       "      <th>YearsWithCurrManager</th>\n",
       "    </tr>\n",
       "  </thead>\n",
       "  <tbody>\n",
       "    <tr>\n",
       "      <th>0</th>\n",
       "      <td>41</td>\n",
       "      <td>Yes</td>\n",
       "      <td>Travel_Rarely</td>\n",
       "      <td>1102</td>\n",
       "      <td>Sales</td>\n",
       "      <td>1</td>\n",
       "      <td>2</td>\n",
       "      <td>Life Sciences</td>\n",
       "      <td>1</td>\n",
       "      <td>1</td>\n",
       "      <td>...</td>\n",
       "      <td>1</td>\n",
       "      <td>80</td>\n",
       "      <td>0</td>\n",
       "      <td>8</td>\n",
       "      <td>0</td>\n",
       "      <td>1</td>\n",
       "      <td>6</td>\n",
       "      <td>4</td>\n",
       "      <td>0</td>\n",
       "      <td>5</td>\n",
       "    </tr>\n",
       "    <tr>\n",
       "      <th>1</th>\n",
       "      <td>49</td>\n",
       "      <td>No</td>\n",
       "      <td>Travel_Frequently</td>\n",
       "      <td>279</td>\n",
       "      <td>Research &amp; Development</td>\n",
       "      <td>8</td>\n",
       "      <td>1</td>\n",
       "      <td>Life Sciences</td>\n",
       "      <td>1</td>\n",
       "      <td>2</td>\n",
       "      <td>...</td>\n",
       "      <td>4</td>\n",
       "      <td>80</td>\n",
       "      <td>1</td>\n",
       "      <td>10</td>\n",
       "      <td>3</td>\n",
       "      <td>3</td>\n",
       "      <td>10</td>\n",
       "      <td>7</td>\n",
       "      <td>1</td>\n",
       "      <td>7</td>\n",
       "    </tr>\n",
       "    <tr>\n",
       "      <th>2</th>\n",
       "      <td>37</td>\n",
       "      <td>Yes</td>\n",
       "      <td>Travel_Rarely</td>\n",
       "      <td>1373</td>\n",
       "      <td>Research &amp; Development</td>\n",
       "      <td>2</td>\n",
       "      <td>2</td>\n",
       "      <td>Other</td>\n",
       "      <td>1</td>\n",
       "      <td>4</td>\n",
       "      <td>...</td>\n",
       "      <td>2</td>\n",
       "      <td>80</td>\n",
       "      <td>0</td>\n",
       "      <td>7</td>\n",
       "      <td>3</td>\n",
       "      <td>3</td>\n",
       "      <td>0</td>\n",
       "      <td>0</td>\n",
       "      <td>0</td>\n",
       "      <td>0</td>\n",
       "    </tr>\n",
       "    <tr>\n",
       "      <th>3</th>\n",
       "      <td>33</td>\n",
       "      <td>No</td>\n",
       "      <td>Travel_Frequently</td>\n",
       "      <td>1392</td>\n",
       "      <td>Research &amp; Development</td>\n",
       "      <td>3</td>\n",
       "      <td>4</td>\n",
       "      <td>Life Sciences</td>\n",
       "      <td>1</td>\n",
       "      <td>5</td>\n",
       "      <td>...</td>\n",
       "      <td>3</td>\n",
       "      <td>80</td>\n",
       "      <td>0</td>\n",
       "      <td>8</td>\n",
       "      <td>3</td>\n",
       "      <td>3</td>\n",
       "      <td>8</td>\n",
       "      <td>7</td>\n",
       "      <td>3</td>\n",
       "      <td>0</td>\n",
       "    </tr>\n",
       "    <tr>\n",
       "      <th>4</th>\n",
       "      <td>27</td>\n",
       "      <td>No</td>\n",
       "      <td>Travel_Rarely</td>\n",
       "      <td>591</td>\n",
       "      <td>Research &amp; Development</td>\n",
       "      <td>2</td>\n",
       "      <td>1</td>\n",
       "      <td>Medical</td>\n",
       "      <td>1</td>\n",
       "      <td>7</td>\n",
       "      <td>...</td>\n",
       "      <td>4</td>\n",
       "      <td>80</td>\n",
       "      <td>1</td>\n",
       "      <td>6</td>\n",
       "      <td>3</td>\n",
       "      <td>3</td>\n",
       "      <td>2</td>\n",
       "      <td>2</td>\n",
       "      <td>2</td>\n",
       "      <td>2</td>\n",
       "    </tr>\n",
       "  </tbody>\n",
       "</table>\n",
       "<p>5 rows × 35 columns</p>\n",
       "</div>"
      ],
      "text/plain": [
       "   Age Attrition     BusinessTravel  DailyRate              Department  \\\n",
       "0   41       Yes      Travel_Rarely       1102                   Sales   \n",
       "1   49        No  Travel_Frequently        279  Research & Development   \n",
       "2   37       Yes      Travel_Rarely       1373  Research & Development   \n",
       "3   33        No  Travel_Frequently       1392  Research & Development   \n",
       "4   27        No      Travel_Rarely        591  Research & Development   \n",
       "\n",
       "   DistanceFromHome  Education EducationField  EmployeeCount  EmployeeNumber  \\\n",
       "0                 1          2  Life Sciences              1               1   \n",
       "1                 8          1  Life Sciences              1               2   \n",
       "2                 2          2          Other              1               4   \n",
       "3                 3          4  Life Sciences              1               5   \n",
       "4                 2          1        Medical              1               7   \n",
       "\n",
       "   ...  RelationshipSatisfaction StandardHours  StockOptionLevel  \\\n",
       "0  ...                         1            80                 0   \n",
       "1  ...                         4            80                 1   \n",
       "2  ...                         2            80                 0   \n",
       "3  ...                         3            80                 0   \n",
       "4  ...                         4            80                 1   \n",
       "\n",
       "   TotalWorkingYears  TrainingTimesLastYear WorkLifeBalance  YearsAtCompany  \\\n",
       "0                  8                      0               1               6   \n",
       "1                 10                      3               3              10   \n",
       "2                  7                      3               3               0   \n",
       "3                  8                      3               3               8   \n",
       "4                  6                      3               3               2   \n",
       "\n",
       "  YearsInCurrentRole  YearsSinceLastPromotion  YearsWithCurrManager  \n",
       "0                  4                        0                     5  \n",
       "1                  7                        1                     7  \n",
       "2                  0                        0                     0  \n",
       "3                  7                        3                     0  \n",
       "4                  2                        2                     2  \n",
       "\n",
       "[5 rows x 35 columns]"
      ]
     },
     "execution_count": 95,
     "metadata": {},
     "output_type": "execute_result"
    }
   ],
   "source": [
    "df = pd.read_csv(\"../data/WA_Fn-UseC_-HR-Employee-Attrition.csv\")\n",
    "df.head()"
   ]
  },
  {
   "cell_type": "code",
   "execution_count": 96,
   "metadata": {
    "slideshow": {
     "slide_type": "skip"
    }
   },
   "outputs": [
    {
     "data": {
      "text/plain": [
       "(1470, 35)"
      ]
     },
     "execution_count": 96,
     "metadata": {},
     "output_type": "execute_result"
    }
   ],
   "source": [
    "df.shape"
   ]
  },
  {
   "cell_type": "code",
   "execution_count": 97,
   "metadata": {
    "slideshow": {
     "slide_type": "skip"
    }
   },
   "outputs": [
    {
     "name": "stdout",
     "output_type": "stream",
     "text": [
      "<class 'pandas.core.frame.DataFrame'>\n",
      "RangeIndex: 1470 entries, 0 to 1469\n",
      "Data columns (total 35 columns):\n",
      " #   Column                    Non-Null Count  Dtype \n",
      "---  ------                    --------------  ----- \n",
      " 0   Age                       1470 non-null   int64 \n",
      " 1   Attrition                 1470 non-null   object\n",
      " 2   BusinessTravel            1470 non-null   object\n",
      " 3   DailyRate                 1470 non-null   int64 \n",
      " 4   Department                1470 non-null   object\n",
      " 5   DistanceFromHome          1470 non-null   int64 \n",
      " 6   Education                 1470 non-null   int64 \n",
      " 7   EducationField            1470 non-null   object\n",
      " 8   EmployeeCount             1470 non-null   int64 \n",
      " 9   EmployeeNumber            1470 non-null   int64 \n",
      " 10  EnvironmentSatisfaction   1470 non-null   int64 \n",
      " 11  Gender                    1470 non-null   object\n",
      " 12  HourlyRate                1470 non-null   int64 \n",
      " 13  JobInvolvement            1470 non-null   int64 \n",
      " 14  JobLevel                  1470 non-null   int64 \n",
      " 15  JobRole                   1470 non-null   object\n",
      " 16  JobSatisfaction           1470 non-null   int64 \n",
      " 17  MaritalStatus             1470 non-null   object\n",
      " 18  MonthlyIncome             1470 non-null   int64 \n",
      " 19  MonthlyRate               1470 non-null   int64 \n",
      " 20  NumCompaniesWorked        1470 non-null   int64 \n",
      " 21  Over18                    1470 non-null   object\n",
      " 22  OverTime                  1470 non-null   object\n",
      " 23  PercentSalaryHike         1470 non-null   int64 \n",
      " 24  PerformanceRating         1470 non-null   int64 \n",
      " 25  RelationshipSatisfaction  1470 non-null   int64 \n",
      " 26  StandardHours             1470 non-null   int64 \n",
      " 27  StockOptionLevel          1470 non-null   int64 \n",
      " 28  TotalWorkingYears         1470 non-null   int64 \n",
      " 29  TrainingTimesLastYear     1470 non-null   int64 \n",
      " 30  WorkLifeBalance           1470 non-null   int64 \n",
      " 31  YearsAtCompany            1470 non-null   int64 \n",
      " 32  YearsInCurrentRole        1470 non-null   int64 \n",
      " 33  YearsSinceLastPromotion   1470 non-null   int64 \n",
      " 34  YearsWithCurrManager      1470 non-null   int64 \n",
      "dtypes: int64(26), object(9)\n",
      "memory usage: 402.1+ KB\n"
     ]
    }
   ],
   "source": [
    "df.info()"
   ]
  },
  {
   "cell_type": "code",
   "execution_count": 98,
   "metadata": {
    "slideshow": {
     "slide_type": "skip"
    }
   },
   "outputs": [
    {
     "data": {
      "text/plain": [
       "Age                         0\n",
       "Attrition                   0\n",
       "BusinessTravel              0\n",
       "DailyRate                   0\n",
       "Department                  0\n",
       "DistanceFromHome            0\n",
       "Education                   0\n",
       "EducationField              0\n",
       "EmployeeCount               0\n",
       "EmployeeNumber              0\n",
       "EnvironmentSatisfaction     0\n",
       "Gender                      0\n",
       "HourlyRate                  0\n",
       "JobInvolvement              0\n",
       "JobLevel                    0\n",
       "JobRole                     0\n",
       "JobSatisfaction             0\n",
       "MaritalStatus               0\n",
       "MonthlyIncome               0\n",
       "MonthlyRate                 0\n",
       "NumCompaniesWorked          0\n",
       "Over18                      0\n",
       "OverTime                    0\n",
       "PercentSalaryHike           0\n",
       "PerformanceRating           0\n",
       "RelationshipSatisfaction    0\n",
       "StandardHours               0\n",
       "StockOptionLevel            0\n",
       "TotalWorkingYears           0\n",
       "TrainingTimesLastYear       0\n",
       "WorkLifeBalance             0\n",
       "YearsAtCompany              0\n",
       "YearsInCurrentRole          0\n",
       "YearsSinceLastPromotion     0\n",
       "YearsWithCurrManager        0\n",
       "dtype: int64"
      ]
     },
     "execution_count": 98,
     "metadata": {},
     "output_type": "execute_result"
    }
   ],
   "source": [
    "df.isnull().sum()"
   ]
  },
  {
   "cell_type": "code",
   "execution_count": 99,
   "metadata": {
    "slideshow": {
     "slide_type": "skip"
    }
   },
   "outputs": [
    {
     "data": {
      "text/html": [
       "<div>\n",
       "<style scoped>\n",
       "    .dataframe tbody tr th:only-of-type {\n",
       "        vertical-align: middle;\n",
       "    }\n",
       "\n",
       "    .dataframe tbody tr th {\n",
       "        vertical-align: top;\n",
       "    }\n",
       "\n",
       "    .dataframe thead th {\n",
       "        text-align: right;\n",
       "    }\n",
       "</style>\n",
       "<table border=\"1\" class=\"dataframe\">\n",
       "  <thead>\n",
       "    <tr style=\"text-align: right;\">\n",
       "      <th></th>\n",
       "      <th>count</th>\n",
       "      <th>mean</th>\n",
       "      <th>std</th>\n",
       "      <th>min</th>\n",
       "      <th>25%</th>\n",
       "      <th>50%</th>\n",
       "      <th>75%</th>\n",
       "      <th>max</th>\n",
       "    </tr>\n",
       "  </thead>\n",
       "  <tbody>\n",
       "    <tr>\n",
       "      <th>Age</th>\n",
       "      <td>1470.0</td>\n",
       "      <td>36.923810</td>\n",
       "      <td>9.135373</td>\n",
       "      <td>18.0</td>\n",
       "      <td>30.00</td>\n",
       "      <td>36.0</td>\n",
       "      <td>43.00</td>\n",
       "      <td>60.0</td>\n",
       "    </tr>\n",
       "    <tr>\n",
       "      <th>DailyRate</th>\n",
       "      <td>1470.0</td>\n",
       "      <td>802.485714</td>\n",
       "      <td>403.509100</td>\n",
       "      <td>102.0</td>\n",
       "      <td>465.00</td>\n",
       "      <td>802.0</td>\n",
       "      <td>1157.00</td>\n",
       "      <td>1499.0</td>\n",
       "    </tr>\n",
       "    <tr>\n",
       "      <th>DistanceFromHome</th>\n",
       "      <td>1470.0</td>\n",
       "      <td>9.192517</td>\n",
       "      <td>8.106864</td>\n",
       "      <td>1.0</td>\n",
       "      <td>2.00</td>\n",
       "      <td>7.0</td>\n",
       "      <td>14.00</td>\n",
       "      <td>29.0</td>\n",
       "    </tr>\n",
       "    <tr>\n",
       "      <th>Education</th>\n",
       "      <td>1470.0</td>\n",
       "      <td>2.912925</td>\n",
       "      <td>1.024165</td>\n",
       "      <td>1.0</td>\n",
       "      <td>2.00</td>\n",
       "      <td>3.0</td>\n",
       "      <td>4.00</td>\n",
       "      <td>5.0</td>\n",
       "    </tr>\n",
       "    <tr>\n",
       "      <th>EmployeeCount</th>\n",
       "      <td>1470.0</td>\n",
       "      <td>1.000000</td>\n",
       "      <td>0.000000</td>\n",
       "      <td>1.0</td>\n",
       "      <td>1.00</td>\n",
       "      <td>1.0</td>\n",
       "      <td>1.00</td>\n",
       "      <td>1.0</td>\n",
       "    </tr>\n",
       "    <tr>\n",
       "      <th>EmployeeNumber</th>\n",
       "      <td>1470.0</td>\n",
       "      <td>1024.865306</td>\n",
       "      <td>602.024335</td>\n",
       "      <td>1.0</td>\n",
       "      <td>491.25</td>\n",
       "      <td>1020.5</td>\n",
       "      <td>1555.75</td>\n",
       "      <td>2068.0</td>\n",
       "    </tr>\n",
       "    <tr>\n",
       "      <th>EnvironmentSatisfaction</th>\n",
       "      <td>1470.0</td>\n",
       "      <td>2.721769</td>\n",
       "      <td>1.093082</td>\n",
       "      <td>1.0</td>\n",
       "      <td>2.00</td>\n",
       "      <td>3.0</td>\n",
       "      <td>4.00</td>\n",
       "      <td>4.0</td>\n",
       "    </tr>\n",
       "    <tr>\n",
       "      <th>HourlyRate</th>\n",
       "      <td>1470.0</td>\n",
       "      <td>65.891156</td>\n",
       "      <td>20.329428</td>\n",
       "      <td>30.0</td>\n",
       "      <td>48.00</td>\n",
       "      <td>66.0</td>\n",
       "      <td>83.75</td>\n",
       "      <td>100.0</td>\n",
       "    </tr>\n",
       "    <tr>\n",
       "      <th>JobInvolvement</th>\n",
       "      <td>1470.0</td>\n",
       "      <td>2.729932</td>\n",
       "      <td>0.711561</td>\n",
       "      <td>1.0</td>\n",
       "      <td>2.00</td>\n",
       "      <td>3.0</td>\n",
       "      <td>3.00</td>\n",
       "      <td>4.0</td>\n",
       "    </tr>\n",
       "    <tr>\n",
       "      <th>JobLevel</th>\n",
       "      <td>1470.0</td>\n",
       "      <td>2.063946</td>\n",
       "      <td>1.106940</td>\n",
       "      <td>1.0</td>\n",
       "      <td>1.00</td>\n",
       "      <td>2.0</td>\n",
       "      <td>3.00</td>\n",
       "      <td>5.0</td>\n",
       "    </tr>\n",
       "    <tr>\n",
       "      <th>JobSatisfaction</th>\n",
       "      <td>1470.0</td>\n",
       "      <td>2.728571</td>\n",
       "      <td>1.102846</td>\n",
       "      <td>1.0</td>\n",
       "      <td>2.00</td>\n",
       "      <td>3.0</td>\n",
       "      <td>4.00</td>\n",
       "      <td>4.0</td>\n",
       "    </tr>\n",
       "    <tr>\n",
       "      <th>MonthlyIncome</th>\n",
       "      <td>1470.0</td>\n",
       "      <td>6502.931293</td>\n",
       "      <td>4707.956783</td>\n",
       "      <td>1009.0</td>\n",
       "      <td>2911.00</td>\n",
       "      <td>4919.0</td>\n",
       "      <td>8379.00</td>\n",
       "      <td>19999.0</td>\n",
       "    </tr>\n",
       "    <tr>\n",
       "      <th>MonthlyRate</th>\n",
       "      <td>1470.0</td>\n",
       "      <td>14313.103401</td>\n",
       "      <td>7117.786044</td>\n",
       "      <td>2094.0</td>\n",
       "      <td>8047.00</td>\n",
       "      <td>14235.5</td>\n",
       "      <td>20461.50</td>\n",
       "      <td>26999.0</td>\n",
       "    </tr>\n",
       "    <tr>\n",
       "      <th>NumCompaniesWorked</th>\n",
       "      <td>1470.0</td>\n",
       "      <td>2.693197</td>\n",
       "      <td>2.498009</td>\n",
       "      <td>0.0</td>\n",
       "      <td>1.00</td>\n",
       "      <td>2.0</td>\n",
       "      <td>4.00</td>\n",
       "      <td>9.0</td>\n",
       "    </tr>\n",
       "    <tr>\n",
       "      <th>PercentSalaryHike</th>\n",
       "      <td>1470.0</td>\n",
       "      <td>15.209524</td>\n",
       "      <td>3.659938</td>\n",
       "      <td>11.0</td>\n",
       "      <td>12.00</td>\n",
       "      <td>14.0</td>\n",
       "      <td>18.00</td>\n",
       "      <td>25.0</td>\n",
       "    </tr>\n",
       "    <tr>\n",
       "      <th>PerformanceRating</th>\n",
       "      <td>1470.0</td>\n",
       "      <td>3.153741</td>\n",
       "      <td>0.360824</td>\n",
       "      <td>3.0</td>\n",
       "      <td>3.00</td>\n",
       "      <td>3.0</td>\n",
       "      <td>3.00</td>\n",
       "      <td>4.0</td>\n",
       "    </tr>\n",
       "    <tr>\n",
       "      <th>RelationshipSatisfaction</th>\n",
       "      <td>1470.0</td>\n",
       "      <td>2.712245</td>\n",
       "      <td>1.081209</td>\n",
       "      <td>1.0</td>\n",
       "      <td>2.00</td>\n",
       "      <td>3.0</td>\n",
       "      <td>4.00</td>\n",
       "      <td>4.0</td>\n",
       "    </tr>\n",
       "    <tr>\n",
       "      <th>StandardHours</th>\n",
       "      <td>1470.0</td>\n",
       "      <td>80.000000</td>\n",
       "      <td>0.000000</td>\n",
       "      <td>80.0</td>\n",
       "      <td>80.00</td>\n",
       "      <td>80.0</td>\n",
       "      <td>80.00</td>\n",
       "      <td>80.0</td>\n",
       "    </tr>\n",
       "    <tr>\n",
       "      <th>StockOptionLevel</th>\n",
       "      <td>1470.0</td>\n",
       "      <td>0.793878</td>\n",
       "      <td>0.852077</td>\n",
       "      <td>0.0</td>\n",
       "      <td>0.00</td>\n",
       "      <td>1.0</td>\n",
       "      <td>1.00</td>\n",
       "      <td>3.0</td>\n",
       "    </tr>\n",
       "    <tr>\n",
       "      <th>TotalWorkingYears</th>\n",
       "      <td>1470.0</td>\n",
       "      <td>11.279592</td>\n",
       "      <td>7.780782</td>\n",
       "      <td>0.0</td>\n",
       "      <td>6.00</td>\n",
       "      <td>10.0</td>\n",
       "      <td>15.00</td>\n",
       "      <td>40.0</td>\n",
       "    </tr>\n",
       "    <tr>\n",
       "      <th>TrainingTimesLastYear</th>\n",
       "      <td>1470.0</td>\n",
       "      <td>2.799320</td>\n",
       "      <td>1.289271</td>\n",
       "      <td>0.0</td>\n",
       "      <td>2.00</td>\n",
       "      <td>3.0</td>\n",
       "      <td>3.00</td>\n",
       "      <td>6.0</td>\n",
       "    </tr>\n",
       "    <tr>\n",
       "      <th>WorkLifeBalance</th>\n",
       "      <td>1470.0</td>\n",
       "      <td>2.761224</td>\n",
       "      <td>0.706476</td>\n",
       "      <td>1.0</td>\n",
       "      <td>2.00</td>\n",
       "      <td>3.0</td>\n",
       "      <td>3.00</td>\n",
       "      <td>4.0</td>\n",
       "    </tr>\n",
       "    <tr>\n",
       "      <th>YearsAtCompany</th>\n",
       "      <td>1470.0</td>\n",
       "      <td>7.008163</td>\n",
       "      <td>6.126525</td>\n",
       "      <td>0.0</td>\n",
       "      <td>3.00</td>\n",
       "      <td>5.0</td>\n",
       "      <td>9.00</td>\n",
       "      <td>40.0</td>\n",
       "    </tr>\n",
       "    <tr>\n",
       "      <th>YearsInCurrentRole</th>\n",
       "      <td>1470.0</td>\n",
       "      <td>4.229252</td>\n",
       "      <td>3.623137</td>\n",
       "      <td>0.0</td>\n",
       "      <td>2.00</td>\n",
       "      <td>3.0</td>\n",
       "      <td>7.00</td>\n",
       "      <td>18.0</td>\n",
       "    </tr>\n",
       "    <tr>\n",
       "      <th>YearsSinceLastPromotion</th>\n",
       "      <td>1470.0</td>\n",
       "      <td>2.187755</td>\n",
       "      <td>3.222430</td>\n",
       "      <td>0.0</td>\n",
       "      <td>0.00</td>\n",
       "      <td>1.0</td>\n",
       "      <td>3.00</td>\n",
       "      <td>15.0</td>\n",
       "    </tr>\n",
       "    <tr>\n",
       "      <th>YearsWithCurrManager</th>\n",
       "      <td>1470.0</td>\n",
       "      <td>4.123129</td>\n",
       "      <td>3.568136</td>\n",
       "      <td>0.0</td>\n",
       "      <td>2.00</td>\n",
       "      <td>3.0</td>\n",
       "      <td>7.00</td>\n",
       "      <td>17.0</td>\n",
       "    </tr>\n",
       "  </tbody>\n",
       "</table>\n",
       "</div>"
      ],
      "text/plain": [
       "                           count          mean          std     min      25%  \\\n",
       "Age                       1470.0     36.923810     9.135373    18.0    30.00   \n",
       "DailyRate                 1470.0    802.485714   403.509100   102.0   465.00   \n",
       "DistanceFromHome          1470.0      9.192517     8.106864     1.0     2.00   \n",
       "Education                 1470.0      2.912925     1.024165     1.0     2.00   \n",
       "EmployeeCount             1470.0      1.000000     0.000000     1.0     1.00   \n",
       "EmployeeNumber            1470.0   1024.865306   602.024335     1.0   491.25   \n",
       "EnvironmentSatisfaction   1470.0      2.721769     1.093082     1.0     2.00   \n",
       "HourlyRate                1470.0     65.891156    20.329428    30.0    48.00   \n",
       "JobInvolvement            1470.0      2.729932     0.711561     1.0     2.00   \n",
       "JobLevel                  1470.0      2.063946     1.106940     1.0     1.00   \n",
       "JobSatisfaction           1470.0      2.728571     1.102846     1.0     2.00   \n",
       "MonthlyIncome             1470.0   6502.931293  4707.956783  1009.0  2911.00   \n",
       "MonthlyRate               1470.0  14313.103401  7117.786044  2094.0  8047.00   \n",
       "NumCompaniesWorked        1470.0      2.693197     2.498009     0.0     1.00   \n",
       "PercentSalaryHike         1470.0     15.209524     3.659938    11.0    12.00   \n",
       "PerformanceRating         1470.0      3.153741     0.360824     3.0     3.00   \n",
       "RelationshipSatisfaction  1470.0      2.712245     1.081209     1.0     2.00   \n",
       "StandardHours             1470.0     80.000000     0.000000    80.0    80.00   \n",
       "StockOptionLevel          1470.0      0.793878     0.852077     0.0     0.00   \n",
       "TotalWorkingYears         1470.0     11.279592     7.780782     0.0     6.00   \n",
       "TrainingTimesLastYear     1470.0      2.799320     1.289271     0.0     2.00   \n",
       "WorkLifeBalance           1470.0      2.761224     0.706476     1.0     2.00   \n",
       "YearsAtCompany            1470.0      7.008163     6.126525     0.0     3.00   \n",
       "YearsInCurrentRole        1470.0      4.229252     3.623137     0.0     2.00   \n",
       "YearsSinceLastPromotion   1470.0      2.187755     3.222430     0.0     0.00   \n",
       "YearsWithCurrManager      1470.0      4.123129     3.568136     0.0     2.00   \n",
       "\n",
       "                              50%       75%      max  \n",
       "Age                          36.0     43.00     60.0  \n",
       "DailyRate                   802.0   1157.00   1499.0  \n",
       "DistanceFromHome              7.0     14.00     29.0  \n",
       "Education                     3.0      4.00      5.0  \n",
       "EmployeeCount                 1.0      1.00      1.0  \n",
       "EmployeeNumber             1020.5   1555.75   2068.0  \n",
       "EnvironmentSatisfaction       3.0      4.00      4.0  \n",
       "HourlyRate                   66.0     83.75    100.0  \n",
       "JobInvolvement                3.0      3.00      4.0  \n",
       "JobLevel                      2.0      3.00      5.0  \n",
       "JobSatisfaction               3.0      4.00      4.0  \n",
       "MonthlyIncome              4919.0   8379.00  19999.0  \n",
       "MonthlyRate               14235.5  20461.50  26999.0  \n",
       "NumCompaniesWorked            2.0      4.00      9.0  \n",
       "PercentSalaryHike            14.0     18.00     25.0  \n",
       "PerformanceRating             3.0      3.00      4.0  \n",
       "RelationshipSatisfaction      3.0      4.00      4.0  \n",
       "StandardHours                80.0     80.00     80.0  \n",
       "StockOptionLevel              1.0      1.00      3.0  \n",
       "TotalWorkingYears            10.0     15.00     40.0  \n",
       "TrainingTimesLastYear         3.0      3.00      6.0  \n",
       "WorkLifeBalance               3.0      3.00      4.0  \n",
       "YearsAtCompany                5.0      9.00     40.0  \n",
       "YearsInCurrentRole            3.0      7.00     18.0  \n",
       "YearsSinceLastPromotion       1.0      3.00     15.0  \n",
       "YearsWithCurrManager          3.0      7.00     17.0  "
      ]
     },
     "execution_count": 99,
     "metadata": {},
     "output_type": "execute_result"
    }
   ],
   "source": [
    "df.describe().T"
   ]
  },
  {
   "cell_type": "code",
   "execution_count": 100,
   "metadata": {
    "slideshow": {
     "slide_type": "skip"
    }
   },
   "outputs": [],
   "source": [
    "def standardize_column_names(df: DataFrame) -> DataFrame:\n",
    "    '''standardizes the columns name\n",
    "      Args:\n",
    "      df: DataFrame\n",
    "      Returns:\n",
    "        DataFrame\n",
    "    '''\n",
    "    df.columns = df.columns.str.lower().str.replace(\" \", \"_\")\n",
    "    return df"
   ]
  },
  {
   "cell_type": "code",
   "execution_count": 101,
   "metadata": {
    "slideshow": {
     "slide_type": "skip"
    }
   },
   "outputs": [
    {
     "data": {
      "text/html": [
       "<div>\n",
       "<style scoped>\n",
       "    .dataframe tbody tr th:only-of-type {\n",
       "        vertical-align: middle;\n",
       "    }\n",
       "\n",
       "    .dataframe tbody tr th {\n",
       "        vertical-align: top;\n",
       "    }\n",
       "\n",
       "    .dataframe thead th {\n",
       "        text-align: right;\n",
       "    }\n",
       "</style>\n",
       "<table border=\"1\" class=\"dataframe\">\n",
       "  <thead>\n",
       "    <tr style=\"text-align: right;\">\n",
       "      <th></th>\n",
       "      <th>0</th>\n",
       "      <th>1</th>\n",
       "      <th>2</th>\n",
       "      <th>3</th>\n",
       "      <th>4</th>\n",
       "    </tr>\n",
       "  </thead>\n",
       "  <tbody>\n",
       "    <tr>\n",
       "      <th>age</th>\n",
       "      <td>41</td>\n",
       "      <td>49</td>\n",
       "      <td>37</td>\n",
       "      <td>33</td>\n",
       "      <td>27</td>\n",
       "    </tr>\n",
       "    <tr>\n",
       "      <th>attrition</th>\n",
       "      <td>Yes</td>\n",
       "      <td>No</td>\n",
       "      <td>Yes</td>\n",
       "      <td>No</td>\n",
       "      <td>No</td>\n",
       "    </tr>\n",
       "    <tr>\n",
       "      <th>businesstravel</th>\n",
       "      <td>Travel_Rarely</td>\n",
       "      <td>Travel_Frequently</td>\n",
       "      <td>Travel_Rarely</td>\n",
       "      <td>Travel_Frequently</td>\n",
       "      <td>Travel_Rarely</td>\n",
       "    </tr>\n",
       "    <tr>\n",
       "      <th>dailyrate</th>\n",
       "      <td>1102</td>\n",
       "      <td>279</td>\n",
       "      <td>1373</td>\n",
       "      <td>1392</td>\n",
       "      <td>591</td>\n",
       "    </tr>\n",
       "    <tr>\n",
       "      <th>department</th>\n",
       "      <td>Sales</td>\n",
       "      <td>Research &amp; Development</td>\n",
       "      <td>Research &amp; Development</td>\n",
       "      <td>Research &amp; Development</td>\n",
       "      <td>Research &amp; Development</td>\n",
       "    </tr>\n",
       "    <tr>\n",
       "      <th>distancefromhome</th>\n",
       "      <td>1</td>\n",
       "      <td>8</td>\n",
       "      <td>2</td>\n",
       "      <td>3</td>\n",
       "      <td>2</td>\n",
       "    </tr>\n",
       "    <tr>\n",
       "      <th>education</th>\n",
       "      <td>2</td>\n",
       "      <td>1</td>\n",
       "      <td>2</td>\n",
       "      <td>4</td>\n",
       "      <td>1</td>\n",
       "    </tr>\n",
       "    <tr>\n",
       "      <th>educationfield</th>\n",
       "      <td>Life Sciences</td>\n",
       "      <td>Life Sciences</td>\n",
       "      <td>Other</td>\n",
       "      <td>Life Sciences</td>\n",
       "      <td>Medical</td>\n",
       "    </tr>\n",
       "    <tr>\n",
       "      <th>employeecount</th>\n",
       "      <td>1</td>\n",
       "      <td>1</td>\n",
       "      <td>1</td>\n",
       "      <td>1</td>\n",
       "      <td>1</td>\n",
       "    </tr>\n",
       "    <tr>\n",
       "      <th>employeenumber</th>\n",
       "      <td>1</td>\n",
       "      <td>2</td>\n",
       "      <td>4</td>\n",
       "      <td>5</td>\n",
       "      <td>7</td>\n",
       "    </tr>\n",
       "    <tr>\n",
       "      <th>environmentsatisfaction</th>\n",
       "      <td>2</td>\n",
       "      <td>3</td>\n",
       "      <td>4</td>\n",
       "      <td>4</td>\n",
       "      <td>1</td>\n",
       "    </tr>\n",
       "    <tr>\n",
       "      <th>gender</th>\n",
       "      <td>Female</td>\n",
       "      <td>Male</td>\n",
       "      <td>Male</td>\n",
       "      <td>Female</td>\n",
       "      <td>Male</td>\n",
       "    </tr>\n",
       "    <tr>\n",
       "      <th>hourlyrate</th>\n",
       "      <td>94</td>\n",
       "      <td>61</td>\n",
       "      <td>92</td>\n",
       "      <td>56</td>\n",
       "      <td>40</td>\n",
       "    </tr>\n",
       "    <tr>\n",
       "      <th>jobinvolvement</th>\n",
       "      <td>3</td>\n",
       "      <td>2</td>\n",
       "      <td>2</td>\n",
       "      <td>3</td>\n",
       "      <td>3</td>\n",
       "    </tr>\n",
       "    <tr>\n",
       "      <th>joblevel</th>\n",
       "      <td>2</td>\n",
       "      <td>2</td>\n",
       "      <td>1</td>\n",
       "      <td>1</td>\n",
       "      <td>1</td>\n",
       "    </tr>\n",
       "    <tr>\n",
       "      <th>jobrole</th>\n",
       "      <td>Sales Executive</td>\n",
       "      <td>Research Scientist</td>\n",
       "      <td>Laboratory Technician</td>\n",
       "      <td>Research Scientist</td>\n",
       "      <td>Laboratory Technician</td>\n",
       "    </tr>\n",
       "    <tr>\n",
       "      <th>jobsatisfaction</th>\n",
       "      <td>4</td>\n",
       "      <td>2</td>\n",
       "      <td>3</td>\n",
       "      <td>3</td>\n",
       "      <td>2</td>\n",
       "    </tr>\n",
       "    <tr>\n",
       "      <th>maritalstatus</th>\n",
       "      <td>Single</td>\n",
       "      <td>Married</td>\n",
       "      <td>Single</td>\n",
       "      <td>Married</td>\n",
       "      <td>Married</td>\n",
       "    </tr>\n",
       "    <tr>\n",
       "      <th>monthlyincome</th>\n",
       "      <td>5993</td>\n",
       "      <td>5130</td>\n",
       "      <td>2090</td>\n",
       "      <td>2909</td>\n",
       "      <td>3468</td>\n",
       "    </tr>\n",
       "    <tr>\n",
       "      <th>monthlyrate</th>\n",
       "      <td>19479</td>\n",
       "      <td>24907</td>\n",
       "      <td>2396</td>\n",
       "      <td>23159</td>\n",
       "      <td>16632</td>\n",
       "    </tr>\n",
       "    <tr>\n",
       "      <th>numcompaniesworked</th>\n",
       "      <td>8</td>\n",
       "      <td>1</td>\n",
       "      <td>6</td>\n",
       "      <td>1</td>\n",
       "      <td>9</td>\n",
       "    </tr>\n",
       "    <tr>\n",
       "      <th>over18</th>\n",
       "      <td>Y</td>\n",
       "      <td>Y</td>\n",
       "      <td>Y</td>\n",
       "      <td>Y</td>\n",
       "      <td>Y</td>\n",
       "    </tr>\n",
       "    <tr>\n",
       "      <th>overtime</th>\n",
       "      <td>Yes</td>\n",
       "      <td>No</td>\n",
       "      <td>Yes</td>\n",
       "      <td>Yes</td>\n",
       "      <td>No</td>\n",
       "    </tr>\n",
       "    <tr>\n",
       "      <th>percentsalaryhike</th>\n",
       "      <td>11</td>\n",
       "      <td>23</td>\n",
       "      <td>15</td>\n",
       "      <td>11</td>\n",
       "      <td>12</td>\n",
       "    </tr>\n",
       "    <tr>\n",
       "      <th>performancerating</th>\n",
       "      <td>3</td>\n",
       "      <td>4</td>\n",
       "      <td>3</td>\n",
       "      <td>3</td>\n",
       "      <td>3</td>\n",
       "    </tr>\n",
       "    <tr>\n",
       "      <th>relationshipsatisfaction</th>\n",
       "      <td>1</td>\n",
       "      <td>4</td>\n",
       "      <td>2</td>\n",
       "      <td>3</td>\n",
       "      <td>4</td>\n",
       "    </tr>\n",
       "    <tr>\n",
       "      <th>standardhours</th>\n",
       "      <td>80</td>\n",
       "      <td>80</td>\n",
       "      <td>80</td>\n",
       "      <td>80</td>\n",
       "      <td>80</td>\n",
       "    </tr>\n",
       "    <tr>\n",
       "      <th>stockoptionlevel</th>\n",
       "      <td>0</td>\n",
       "      <td>1</td>\n",
       "      <td>0</td>\n",
       "      <td>0</td>\n",
       "      <td>1</td>\n",
       "    </tr>\n",
       "    <tr>\n",
       "      <th>totalworkingyears</th>\n",
       "      <td>8</td>\n",
       "      <td>10</td>\n",
       "      <td>7</td>\n",
       "      <td>8</td>\n",
       "      <td>6</td>\n",
       "    </tr>\n",
       "    <tr>\n",
       "      <th>trainingtimeslastyear</th>\n",
       "      <td>0</td>\n",
       "      <td>3</td>\n",
       "      <td>3</td>\n",
       "      <td>3</td>\n",
       "      <td>3</td>\n",
       "    </tr>\n",
       "    <tr>\n",
       "      <th>worklifebalance</th>\n",
       "      <td>1</td>\n",
       "      <td>3</td>\n",
       "      <td>3</td>\n",
       "      <td>3</td>\n",
       "      <td>3</td>\n",
       "    </tr>\n",
       "    <tr>\n",
       "      <th>yearsatcompany</th>\n",
       "      <td>6</td>\n",
       "      <td>10</td>\n",
       "      <td>0</td>\n",
       "      <td>8</td>\n",
       "      <td>2</td>\n",
       "    </tr>\n",
       "    <tr>\n",
       "      <th>yearsincurrentrole</th>\n",
       "      <td>4</td>\n",
       "      <td>7</td>\n",
       "      <td>0</td>\n",
       "      <td>7</td>\n",
       "      <td>2</td>\n",
       "    </tr>\n",
       "    <tr>\n",
       "      <th>yearssincelastpromotion</th>\n",
       "      <td>0</td>\n",
       "      <td>1</td>\n",
       "      <td>0</td>\n",
       "      <td>3</td>\n",
       "      <td>2</td>\n",
       "    </tr>\n",
       "    <tr>\n",
       "      <th>yearswithcurrmanager</th>\n",
       "      <td>5</td>\n",
       "      <td>7</td>\n",
       "      <td>0</td>\n",
       "      <td>0</td>\n",
       "      <td>2</td>\n",
       "    </tr>\n",
       "  </tbody>\n",
       "</table>\n",
       "</div>"
      ],
      "text/plain": [
       "                                        0                       1  \\\n",
       "age                                    41                      49   \n",
       "attrition                             Yes                      No   \n",
       "businesstravel              Travel_Rarely       Travel_Frequently   \n",
       "dailyrate                            1102                     279   \n",
       "department                          Sales  Research & Development   \n",
       "distancefromhome                        1                       8   \n",
       "education                               2                       1   \n",
       "educationfield              Life Sciences           Life Sciences   \n",
       "employeecount                           1                       1   \n",
       "employeenumber                          1                       2   \n",
       "environmentsatisfaction                 2                       3   \n",
       "gender                             Female                    Male   \n",
       "hourlyrate                             94                      61   \n",
       "jobinvolvement                          3                       2   \n",
       "joblevel                                2                       2   \n",
       "jobrole                   Sales Executive      Research Scientist   \n",
       "jobsatisfaction                         4                       2   \n",
       "maritalstatus                      Single                 Married   \n",
       "monthlyincome                        5993                    5130   \n",
       "monthlyrate                         19479                   24907   \n",
       "numcompaniesworked                      8                       1   \n",
       "over18                                  Y                       Y   \n",
       "overtime                              Yes                      No   \n",
       "percentsalaryhike                      11                      23   \n",
       "performancerating                       3                       4   \n",
       "relationshipsatisfaction                1                       4   \n",
       "standardhours                          80                      80   \n",
       "stockoptionlevel                        0                       1   \n",
       "totalworkingyears                       8                      10   \n",
       "trainingtimeslastyear                   0                       3   \n",
       "worklifebalance                         1                       3   \n",
       "yearsatcompany                          6                      10   \n",
       "yearsincurrentrole                      4                       7   \n",
       "yearssincelastpromotion                 0                       1   \n",
       "yearswithcurrmanager                    5                       7   \n",
       "\n",
       "                                               2                       3  \\\n",
       "age                                           37                      33   \n",
       "attrition                                    Yes                      No   \n",
       "businesstravel                     Travel_Rarely       Travel_Frequently   \n",
       "dailyrate                                   1373                    1392   \n",
       "department                Research & Development  Research & Development   \n",
       "distancefromhome                               2                       3   \n",
       "education                                      2                       4   \n",
       "educationfield                             Other           Life Sciences   \n",
       "employeecount                                  1                       1   \n",
       "employeenumber                                 4                       5   \n",
       "environmentsatisfaction                        4                       4   \n",
       "gender                                      Male                  Female   \n",
       "hourlyrate                                    92                      56   \n",
       "jobinvolvement                                 2                       3   \n",
       "joblevel                                       1                       1   \n",
       "jobrole                    Laboratory Technician      Research Scientist   \n",
       "jobsatisfaction                                3                       3   \n",
       "maritalstatus                             Single                 Married   \n",
       "monthlyincome                               2090                    2909   \n",
       "monthlyrate                                 2396                   23159   \n",
       "numcompaniesworked                             6                       1   \n",
       "over18                                         Y                       Y   \n",
       "overtime                                     Yes                     Yes   \n",
       "percentsalaryhike                             15                      11   \n",
       "performancerating                              3                       3   \n",
       "relationshipsatisfaction                       2                       3   \n",
       "standardhours                                 80                      80   \n",
       "stockoptionlevel                               0                       0   \n",
       "totalworkingyears                              7                       8   \n",
       "trainingtimeslastyear                          3                       3   \n",
       "worklifebalance                                3                       3   \n",
       "yearsatcompany                                 0                       8   \n",
       "yearsincurrentrole                             0                       7   \n",
       "yearssincelastpromotion                        0                       3   \n",
       "yearswithcurrmanager                           0                       0   \n",
       "\n",
       "                                               4  \n",
       "age                                           27  \n",
       "attrition                                     No  \n",
       "businesstravel                     Travel_Rarely  \n",
       "dailyrate                                    591  \n",
       "department                Research & Development  \n",
       "distancefromhome                               2  \n",
       "education                                      1  \n",
       "educationfield                           Medical  \n",
       "employeecount                                  1  \n",
       "employeenumber                                 7  \n",
       "environmentsatisfaction                        1  \n",
       "gender                                      Male  \n",
       "hourlyrate                                    40  \n",
       "jobinvolvement                                 3  \n",
       "joblevel                                       1  \n",
       "jobrole                    Laboratory Technician  \n",
       "jobsatisfaction                                2  \n",
       "maritalstatus                            Married  \n",
       "monthlyincome                               3468  \n",
       "monthlyrate                                16632  \n",
       "numcompaniesworked                             9  \n",
       "over18                                         Y  \n",
       "overtime                                      No  \n",
       "percentsalaryhike                             12  \n",
       "performancerating                              3  \n",
       "relationshipsatisfaction                       4  \n",
       "standardhours                                 80  \n",
       "stockoptionlevel                               1  \n",
       "totalworkingyears                              6  \n",
       "trainingtimeslastyear                          3  \n",
       "worklifebalance                                3  \n",
       "yearsatcompany                                 2  \n",
       "yearsincurrentrole                             2  \n",
       "yearssincelastpromotion                        2  \n",
       "yearswithcurrmanager                           2  "
      ]
     },
     "execution_count": 101,
     "metadata": {},
     "output_type": "execute_result"
    }
   ],
   "source": [
    "df = standardize_column_names(df)\n",
    "df.head().T"
   ]
  },
  {
   "cell_type": "code",
   "execution_count": 102,
   "metadata": {
    "slideshow": {
     "slide_type": "skip"
    }
   },
   "outputs": [],
   "source": [
    "def clean_categorical_columns(df:DataFrame) -> DataFrame:\n",
    "    '''clean the columns removing spaces, special characters and converting to lower case\n",
    "    Args:\n",
    "        df: DataFrame\n",
    "    Returns:\n",
    "        DataFrame\n",
    "    '''\n",
    "    clean_categorical_columns = df.select_dtypes(include=['object']).columns\n",
    "    for column in clean_categorical_columns:\n",
    "        df[column] = df[column].str.lower().str.strip().str.replace(' ', '_').str.replace('/', '_').str.replace('-', '_').str.replace('(', '').str.replace(')', '')\n",
    "    return df"
   ]
  },
  {
   "cell_type": "code",
   "execution_count": 103,
   "metadata": {
    "slideshow": {
     "slide_type": "skip"
    }
   },
   "outputs": [
    {
     "data": {
      "text/html": [
       "<div>\n",
       "<style scoped>\n",
       "    .dataframe tbody tr th:only-of-type {\n",
       "        vertical-align: middle;\n",
       "    }\n",
       "\n",
       "    .dataframe tbody tr th {\n",
       "        vertical-align: top;\n",
       "    }\n",
       "\n",
       "    .dataframe thead th {\n",
       "        text-align: right;\n",
       "    }\n",
       "</style>\n",
       "<table border=\"1\" class=\"dataframe\">\n",
       "  <thead>\n",
       "    <tr style=\"text-align: right;\">\n",
       "      <th></th>\n",
       "      <th>age</th>\n",
       "      <th>attrition</th>\n",
       "      <th>businesstravel</th>\n",
       "      <th>dailyrate</th>\n",
       "      <th>department</th>\n",
       "      <th>distancefromhome</th>\n",
       "      <th>education</th>\n",
       "      <th>educationfield</th>\n",
       "      <th>employeecount</th>\n",
       "      <th>employeenumber</th>\n",
       "      <th>...</th>\n",
       "      <th>relationshipsatisfaction</th>\n",
       "      <th>standardhours</th>\n",
       "      <th>stockoptionlevel</th>\n",
       "      <th>totalworkingyears</th>\n",
       "      <th>trainingtimeslastyear</th>\n",
       "      <th>worklifebalance</th>\n",
       "      <th>yearsatcompany</th>\n",
       "      <th>yearsincurrentrole</th>\n",
       "      <th>yearssincelastpromotion</th>\n",
       "      <th>yearswithcurrmanager</th>\n",
       "    </tr>\n",
       "  </thead>\n",
       "  <tbody>\n",
       "    <tr>\n",
       "      <th>0</th>\n",
       "      <td>41</td>\n",
       "      <td>yes</td>\n",
       "      <td>travel_rarely</td>\n",
       "      <td>1102</td>\n",
       "      <td>sales</td>\n",
       "      <td>1</td>\n",
       "      <td>2</td>\n",
       "      <td>life_sciences</td>\n",
       "      <td>1</td>\n",
       "      <td>1</td>\n",
       "      <td>...</td>\n",
       "      <td>1</td>\n",
       "      <td>80</td>\n",
       "      <td>0</td>\n",
       "      <td>8</td>\n",
       "      <td>0</td>\n",
       "      <td>1</td>\n",
       "      <td>6</td>\n",
       "      <td>4</td>\n",
       "      <td>0</td>\n",
       "      <td>5</td>\n",
       "    </tr>\n",
       "    <tr>\n",
       "      <th>1</th>\n",
       "      <td>49</td>\n",
       "      <td>no</td>\n",
       "      <td>travel_frequently</td>\n",
       "      <td>279</td>\n",
       "      <td>research_&amp;_development</td>\n",
       "      <td>8</td>\n",
       "      <td>1</td>\n",
       "      <td>life_sciences</td>\n",
       "      <td>1</td>\n",
       "      <td>2</td>\n",
       "      <td>...</td>\n",
       "      <td>4</td>\n",
       "      <td>80</td>\n",
       "      <td>1</td>\n",
       "      <td>10</td>\n",
       "      <td>3</td>\n",
       "      <td>3</td>\n",
       "      <td>10</td>\n",
       "      <td>7</td>\n",
       "      <td>1</td>\n",
       "      <td>7</td>\n",
       "    </tr>\n",
       "    <tr>\n",
       "      <th>2</th>\n",
       "      <td>37</td>\n",
       "      <td>yes</td>\n",
       "      <td>travel_rarely</td>\n",
       "      <td>1373</td>\n",
       "      <td>research_&amp;_development</td>\n",
       "      <td>2</td>\n",
       "      <td>2</td>\n",
       "      <td>other</td>\n",
       "      <td>1</td>\n",
       "      <td>4</td>\n",
       "      <td>...</td>\n",
       "      <td>2</td>\n",
       "      <td>80</td>\n",
       "      <td>0</td>\n",
       "      <td>7</td>\n",
       "      <td>3</td>\n",
       "      <td>3</td>\n",
       "      <td>0</td>\n",
       "      <td>0</td>\n",
       "      <td>0</td>\n",
       "      <td>0</td>\n",
       "    </tr>\n",
       "    <tr>\n",
       "      <th>3</th>\n",
       "      <td>33</td>\n",
       "      <td>no</td>\n",
       "      <td>travel_frequently</td>\n",
       "      <td>1392</td>\n",
       "      <td>research_&amp;_development</td>\n",
       "      <td>3</td>\n",
       "      <td>4</td>\n",
       "      <td>life_sciences</td>\n",
       "      <td>1</td>\n",
       "      <td>5</td>\n",
       "      <td>...</td>\n",
       "      <td>3</td>\n",
       "      <td>80</td>\n",
       "      <td>0</td>\n",
       "      <td>8</td>\n",
       "      <td>3</td>\n",
       "      <td>3</td>\n",
       "      <td>8</td>\n",
       "      <td>7</td>\n",
       "      <td>3</td>\n",
       "      <td>0</td>\n",
       "    </tr>\n",
       "    <tr>\n",
       "      <th>4</th>\n",
       "      <td>27</td>\n",
       "      <td>no</td>\n",
       "      <td>travel_rarely</td>\n",
       "      <td>591</td>\n",
       "      <td>research_&amp;_development</td>\n",
       "      <td>2</td>\n",
       "      <td>1</td>\n",
       "      <td>medical</td>\n",
       "      <td>1</td>\n",
       "      <td>7</td>\n",
       "      <td>...</td>\n",
       "      <td>4</td>\n",
       "      <td>80</td>\n",
       "      <td>1</td>\n",
       "      <td>6</td>\n",
       "      <td>3</td>\n",
       "      <td>3</td>\n",
       "      <td>2</td>\n",
       "      <td>2</td>\n",
       "      <td>2</td>\n",
       "      <td>2</td>\n",
       "    </tr>\n",
       "  </tbody>\n",
       "</table>\n",
       "<p>5 rows × 35 columns</p>\n",
       "</div>"
      ],
      "text/plain": [
       "   age attrition     businesstravel  dailyrate              department  \\\n",
       "0   41       yes      travel_rarely       1102                   sales   \n",
       "1   49        no  travel_frequently        279  research_&_development   \n",
       "2   37       yes      travel_rarely       1373  research_&_development   \n",
       "3   33        no  travel_frequently       1392  research_&_development   \n",
       "4   27        no      travel_rarely        591  research_&_development   \n",
       "\n",
       "   distancefromhome  education educationfield  employeecount  employeenumber  \\\n",
       "0                 1          2  life_sciences              1               1   \n",
       "1                 8          1  life_sciences              1               2   \n",
       "2                 2          2          other              1               4   \n",
       "3                 3          4  life_sciences              1               5   \n",
       "4                 2          1        medical              1               7   \n",
       "\n",
       "   ...  relationshipsatisfaction standardhours  stockoptionlevel  \\\n",
       "0  ...                         1            80                 0   \n",
       "1  ...                         4            80                 1   \n",
       "2  ...                         2            80                 0   \n",
       "3  ...                         3            80                 0   \n",
       "4  ...                         4            80                 1   \n",
       "\n",
       "   totalworkingyears  trainingtimeslastyear worklifebalance  yearsatcompany  \\\n",
       "0                  8                      0               1               6   \n",
       "1                 10                      3               3              10   \n",
       "2                  7                      3               3               0   \n",
       "3                  8                      3               3               8   \n",
       "4                  6                      3               3               2   \n",
       "\n",
       "  yearsincurrentrole  yearssincelastpromotion  yearswithcurrmanager  \n",
       "0                  4                        0                     5  \n",
       "1                  7                        1                     7  \n",
       "2                  0                        0                     0  \n",
       "3                  7                        3                     0  \n",
       "4                  2                        2                     2  \n",
       "\n",
       "[5 rows x 35 columns]"
      ]
     },
     "execution_count": 103,
     "metadata": {},
     "output_type": "execute_result"
    }
   ],
   "source": [
    "clean_categorical_columns(df)\n",
    "df.head()"
   ]
  },
  {
   "cell_type": "code",
   "execution_count": 104,
   "metadata": {
    "slideshow": {
     "slide_type": "skip"
    }
   },
   "outputs": [
    {
     "data": {
      "text/plain": [
       "0"
      ]
     },
     "execution_count": 104,
     "metadata": {},
     "output_type": "execute_result"
    }
   ],
   "source": [
    "df.duplicated().sum()"
   ]
  },
  {
   "cell_type": "code",
   "execution_count": 105,
   "metadata": {
    "slideshow": {
     "slide_type": "skip"
    }
   },
   "outputs": [
    {
     "data": {
      "text/plain": [
       "education\n",
       "3    572\n",
       "4    398\n",
       "2    282\n",
       "1    170\n",
       "5     48\n",
       "Name: count, dtype: int64"
      ]
     },
     "execution_count": 105,
     "metadata": {},
     "output_type": "execute_result"
    }
   ],
   "source": [
    "df.education.value_counts()"
   ]
  },
  {
   "cell_type": "code",
   "execution_count": 106,
   "metadata": {
    "slideshow": {
     "slide_type": "skip"
    }
   },
   "outputs": [],
   "source": [
    "education_map = {1: \"below_college\",2: \"college\",3: \"bachelor\",4: \"master\",5: \"doctor\"}\n",
    "\n",
    "df['education'] = df['education'].map(education_map).astype('category')"
   ]
  },
  {
   "cell_type": "code",
   "execution_count": 107,
   "metadata": {
    "slideshow": {
     "slide_type": "skip"
    }
   },
   "outputs": [
    {
     "data": {
      "text/plain": [
       "education\n",
       "bachelor         572\n",
       "master           398\n",
       "college          282\n",
       "below_college    170\n",
       "doctor            48\n",
       "Name: count, dtype: int64"
      ]
     },
     "execution_count": 107,
     "metadata": {},
     "output_type": "execute_result"
    }
   ],
   "source": [
    "df.education.value_counts()"
   ]
  },
  {
   "cell_type": "code",
   "execution_count": 108,
   "metadata": {
    "slideshow": {
     "slide_type": "skip"
    }
   },
   "outputs": [
    {
     "data": {
      "text/plain": [
       "performancerating\n",
       "3    1244\n",
       "4     226\n",
       "Name: count, dtype: int64"
      ]
     },
     "execution_count": 108,
     "metadata": {},
     "output_type": "execute_result"
    }
   ],
   "source": [
    "df.performancerating.value_counts()"
   ]
  },
  {
   "cell_type": "code",
   "execution_count": 109,
   "metadata": {
    "slideshow": {
     "slide_type": "skip"
    }
   },
   "outputs": [],
   "source": [
    "performanceRating_map = {1: 'low', 2: 'good', 3: 'excellent', 4: 'outstanding'}\n",
    "df['performancerating'] = df['performancerating'].map(performanceRating_map).astype('category')"
   ]
  },
  {
   "cell_type": "code",
   "execution_count": 110,
   "metadata": {
    "slideshow": {
     "slide_type": "skip"
    }
   },
   "outputs": [
    {
     "data": {
      "text/plain": [
       "performancerating\n",
       "excellent      1244\n",
       "outstanding     226\n",
       "Name: count, dtype: int64"
      ]
     },
     "execution_count": 110,
     "metadata": {},
     "output_type": "execute_result"
    }
   ],
   "source": [
    "df.performancerating.value_counts() "
   ]
  },
  {
   "cell_type": "code",
   "execution_count": 111,
   "metadata": {
    "slideshow": {
     "slide_type": "skip"
    }
   },
   "outputs": [
    {
     "data": {
      "text/plain": [
       "environmentsatisfaction\n",
       "3    453\n",
       "4    446\n",
       "2    287\n",
       "1    284\n",
       "Name: count, dtype: int64"
      ]
     },
     "execution_count": 111,
     "metadata": {},
     "output_type": "execute_result"
    }
   ],
   "source": [
    "df.environmentsatisfaction.value_counts()"
   ]
  },
  {
   "cell_type": "code",
   "execution_count": 112,
   "metadata": {
    "slideshow": {
     "slide_type": "skip"
    }
   },
   "outputs": [],
   "source": [
    "enviromentalstaisfaction_map = {1: 'low', 2: 'medium', 3: 'high', 4: 'very_high'}\n",
    "df['environmentsatisfaction'] = df['environmentsatisfaction'].map(enviromentalstaisfaction_map).astype('category')"
   ]
  },
  {
   "cell_type": "code",
   "execution_count": 113,
   "metadata": {
    "slideshow": {
     "slide_type": "skip"
    }
   },
   "outputs": [
    {
     "data": {
      "text/plain": [
       "environmentsatisfaction\n",
       "high         453\n",
       "very_high    446\n",
       "medium       287\n",
       "low          284\n",
       "Name: count, dtype: int64"
      ]
     },
     "execution_count": 113,
     "metadata": {},
     "output_type": "execute_result"
    }
   ],
   "source": [
    "df.environmentsatisfaction.value_counts()"
   ]
  },
  {
   "cell_type": "code",
   "execution_count": 114,
   "metadata": {
    "slideshow": {
     "slide_type": "skip"
    }
   },
   "outputs": [
    {
     "data": {
      "text/plain": [
       "jobinvolvement\n",
       "3    868\n",
       "2    375\n",
       "4    144\n",
       "1     83\n",
       "Name: count, dtype: int64"
      ]
     },
     "execution_count": 114,
     "metadata": {},
     "output_type": "execute_result"
    }
   ],
   "source": [
    "df.jobinvolvement.value_counts()  "
   ]
  },
  {
   "cell_type": "code",
   "execution_count": 115,
   "metadata": {
    "slideshow": {
     "slide_type": "skip"
    }
   },
   "outputs": [],
   "source": [
    "jobInvolvement_map = {1: 'low', 2: 'medium', 3: 'high', 4: 'very_high'}\n",
    "df['jobinvolvement'] = df['jobinvolvement'].map(jobInvolvement_map).astype('category')"
   ]
  },
  {
   "cell_type": "code",
   "execution_count": 116,
   "metadata": {
    "slideshow": {
     "slide_type": "skip"
    }
   },
   "outputs": [
    {
     "data": {
      "text/plain": [
       "jobinvolvement\n",
       "high         868\n",
       "medium       375\n",
       "very_high    144\n",
       "low           83\n",
       "Name: count, dtype: int64"
      ]
     },
     "execution_count": 116,
     "metadata": {},
     "output_type": "execute_result"
    }
   ],
   "source": [
    "df.jobinvolvement.value_counts()"
   ]
  },
  {
   "cell_type": "code",
   "execution_count": 117,
   "metadata": {
    "slideshow": {
     "slide_type": "skip"
    }
   },
   "outputs": [
    {
     "data": {
      "text/plain": [
       "jobsatisfaction\n",
       "4    459\n",
       "3    442\n",
       "1    289\n",
       "2    280\n",
       "Name: count, dtype: int64"
      ]
     },
     "execution_count": 117,
     "metadata": {},
     "output_type": "execute_result"
    }
   ],
   "source": [
    "df.jobsatisfaction.value_counts()"
   ]
  },
  {
   "cell_type": "code",
   "execution_count": 118,
   "metadata": {
    "slideshow": {
     "slide_type": "skip"
    }
   },
   "outputs": [],
   "source": [
    "jobSatisfaction_map = {1: 'low', 2: 'medium', 3: 'high', 4: 'very_high'}\n",
    "df['jobsatisfaction'] = df['jobsatisfaction'].map(jobSatisfaction_map).astype('category')"
   ]
  },
  {
   "cell_type": "code",
   "execution_count": 119,
   "metadata": {
    "slideshow": {
     "slide_type": "skip"
    }
   },
   "outputs": [
    {
     "data": {
      "text/plain": [
       "jobsatisfaction\n",
       "very_high    459\n",
       "high         442\n",
       "low          289\n",
       "medium       280\n",
       "Name: count, dtype: int64"
      ]
     },
     "execution_count": 119,
     "metadata": {},
     "output_type": "execute_result"
    }
   ],
   "source": [
    "df.jobsatisfaction.value_counts() "
   ]
  },
  {
   "cell_type": "code",
   "execution_count": 120,
   "metadata": {
    "slideshow": {
     "slide_type": "skip"
    }
   },
   "outputs": [
    {
     "data": {
      "text/plain": [
       "relationshipsatisfaction\n",
       "3    459\n",
       "4    432\n",
       "2    303\n",
       "1    276\n",
       "Name: count, dtype: int64"
      ]
     },
     "execution_count": 120,
     "metadata": {},
     "output_type": "execute_result"
    }
   ],
   "source": [
    "df.relationshipsatisfaction.value_counts()  "
   ]
  },
  {
   "cell_type": "code",
   "execution_count": 121,
   "metadata": {
    "slideshow": {
     "slide_type": "skip"
    }
   },
   "outputs": [],
   "source": [
    "relationshipSatisfaction_map = {1: 'low', 2: 'medium', 3: 'high', 4: 'very_high'}\n",
    "df['relationshipsatisfaction'] = df['relationshipsatisfaction'].map(relationshipSatisfaction_map).astype('category')"
   ]
  },
  {
   "cell_type": "code",
   "execution_count": 122,
   "metadata": {
    "slideshow": {
     "slide_type": "skip"
    }
   },
   "outputs": [
    {
     "data": {
      "text/plain": [
       "relationshipsatisfaction\n",
       "high         459\n",
       "very_high    432\n",
       "medium       303\n",
       "low          276\n",
       "Name: count, dtype: int64"
      ]
     },
     "execution_count": 122,
     "metadata": {},
     "output_type": "execute_result"
    }
   ],
   "source": [
    "df.relationshipsatisfaction.value_counts()  "
   ]
  },
  {
   "cell_type": "code",
   "execution_count": 123,
   "metadata": {
    "slideshow": {
     "slide_type": "skip"
    }
   },
   "outputs": [
    {
     "data": {
      "text/plain": [
       "worklifebalance\n",
       "3    893\n",
       "2    344\n",
       "4    153\n",
       "1     80\n",
       "Name: count, dtype: int64"
      ]
     },
     "execution_count": 123,
     "metadata": {},
     "output_type": "execute_result"
    }
   ],
   "source": [
    "df.worklifebalance.value_counts()"
   ]
  },
  {
   "cell_type": "code",
   "execution_count": 124,
   "metadata": {
    "slideshow": {
     "slide_type": "skip"
    }
   },
   "outputs": [],
   "source": [
    "workLifeBalance_map = {1: 'bad', 2: 'good', 3: 'better', 4: 'best'} \n",
    "df['worklifebalance'] = df['worklifebalance'].map(workLifeBalance_map).astype('category')"
   ]
  },
  {
   "cell_type": "code",
   "execution_count": 125,
   "metadata": {
    "slideshow": {
     "slide_type": "skip"
    }
   },
   "outputs": [
    {
     "data": {
      "text/plain": [
       "worklifebalance\n",
       "better    893\n",
       "good      344\n",
       "best      153\n",
       "bad        80\n",
       "Name: count, dtype: int64"
      ]
     },
     "execution_count": 125,
     "metadata": {},
     "output_type": "execute_result"
    }
   ],
   "source": [
    "df.worklifebalance.value_counts()"
   ]
  },
  {
   "cell_type": "code",
   "execution_count": 126,
   "metadata": {
    "slideshow": {
     "slide_type": "skip"
    }
   },
   "outputs": [
    {
     "data": {
      "text/plain": [
       "Index(['age', 'dailyrate', 'distancefromhome', 'employeecount',\n",
       "       'employeenumber', 'hourlyrate', 'joblevel', 'monthlyincome',\n",
       "       'monthlyrate', 'numcompaniesworked', 'percentsalaryhike',\n",
       "       'standardhours', 'stockoptionlevel', 'totalworkingyears',\n",
       "       'trainingtimeslastyear', 'yearsatcompany', 'yearsincurrentrole',\n",
       "       'yearssincelastpromotion', 'yearswithcurrmanager'],\n",
       "      dtype='object')"
      ]
     },
     "execution_count": 126,
     "metadata": {},
     "output_type": "execute_result"
    }
   ],
   "source": [
    "numerical_columns = df.select_dtypes(include=[np.number]).columns\n",
    "numerical_columns"
   ]
  },
  {
   "cell_type": "code",
   "execution_count": 127,
   "metadata": {
    "slideshow": {
     "slide_type": "skip"
    }
   },
   "outputs": [],
   "source": [
    "def outlier_cheer(df:DataFrame, column:str) -> DataFrame:\n",
    "    '''check for outliers in the data\n",
    "    Args:\n",
    "        df: DataFrame\n",
    "        column: str\n",
    "    Returns:\n",
    "        DataFrame\n",
    "    '''\n",
    "    z_scores = zscore(df[column])\n",
    "    abs_z_scores = np.abs(z_scores)\n",
    "    outliers = (abs_z_scores > 3)\n",
    "    return outliers"
   ]
  },
  {
   "cell_type": "code",
   "execution_count": 128,
   "metadata": {
    "slideshow": {
     "slide_type": "skip"
    }
   },
   "outputs": [
    {
     "name": "stdout",
     "output_type": "stream",
     "text": [
      "Outliers in age are 0\n",
      "Outliers in dailyrate are 0\n",
      "Outliers in distancefromhome are 0\n",
      "Outliers in employeecount are 0\n",
      "Outliers in employeenumber are 0\n",
      "Outliers in hourlyrate are 0\n",
      "Outliers in joblevel are 0\n",
      "Outliers in monthlyincome are 0\n",
      "Outliers in monthlyrate are 0\n",
      "Outliers in numcompaniesworked are 0\n",
      "Outliers in percentsalaryhike are 0\n",
      "Outliers in standardhours are 0\n",
      "Outliers in stockoptionlevel are 0\n",
      "Outliers in totalworkingyears are 16\n",
      "Outliers in trainingtimeslastyear are 0\n",
      "Outliers in yearsatcompany are 25\n",
      "Outliers in yearsincurrentrole are 13\n",
      "Outliers in yearssincelastpromotion are 42\n",
      "Outliers in yearswithcurrmanager are 14\n"
     ]
    }
   ],
   "source": [
    "for col in numerical_columns:\n",
    "    x = outlier_cheer(df, col)\n",
    "    print(f\"Outliers in {col} are {x.sum()}\")"
   ]
  },
  {
   "cell_type": "code",
   "execution_count": 129,
   "metadata": {
    "slideshow": {
     "slide_type": "skip"
    }
   },
   "outputs": [
    {
     "data": {
      "text/html": [
       "<div>\n",
       "<style scoped>\n",
       "    .dataframe tbody tr th:only-of-type {\n",
       "        vertical-align: middle;\n",
       "    }\n",
       "\n",
       "    .dataframe tbody tr th {\n",
       "        vertical-align: top;\n",
       "    }\n",
       "\n",
       "    .dataframe thead th {\n",
       "        text-align: right;\n",
       "    }\n",
       "</style>\n",
       "<table border=\"1\" class=\"dataframe\">\n",
       "  <thead>\n",
       "    <tr style=\"text-align: right;\">\n",
       "      <th></th>\n",
       "      <th>age</th>\n",
       "      <th>attrition</th>\n",
       "      <th>businesstravel</th>\n",
       "      <th>dailyrate</th>\n",
       "      <th>department</th>\n",
       "      <th>distancefromhome</th>\n",
       "      <th>education</th>\n",
       "      <th>educationfield</th>\n",
       "      <th>employeecount</th>\n",
       "      <th>employeenumber</th>\n",
       "      <th>...</th>\n",
       "      <th>relationshipsatisfaction</th>\n",
       "      <th>standardhours</th>\n",
       "      <th>stockoptionlevel</th>\n",
       "      <th>totalworkingyears</th>\n",
       "      <th>trainingtimeslastyear</th>\n",
       "      <th>worklifebalance</th>\n",
       "      <th>yearsatcompany</th>\n",
       "      <th>yearsincurrentrole</th>\n",
       "      <th>yearssincelastpromotion</th>\n",
       "      <th>yearswithcurrmanager</th>\n",
       "    </tr>\n",
       "  </thead>\n",
       "  <tbody>\n",
       "    <tr>\n",
       "      <th>0</th>\n",
       "      <td>41</td>\n",
       "      <td>yes</td>\n",
       "      <td>travel_rarely</td>\n",
       "      <td>1102</td>\n",
       "      <td>sales</td>\n",
       "      <td>1</td>\n",
       "      <td>college</td>\n",
       "      <td>life_sciences</td>\n",
       "      <td>1</td>\n",
       "      <td>1</td>\n",
       "      <td>...</td>\n",
       "      <td>low</td>\n",
       "      <td>80</td>\n",
       "      <td>0</td>\n",
       "      <td>8</td>\n",
       "      <td>0</td>\n",
       "      <td>bad</td>\n",
       "      <td>6</td>\n",
       "      <td>4</td>\n",
       "      <td>0</td>\n",
       "      <td>5</td>\n",
       "    </tr>\n",
       "    <tr>\n",
       "      <th>1</th>\n",
       "      <td>49</td>\n",
       "      <td>no</td>\n",
       "      <td>travel_frequently</td>\n",
       "      <td>279</td>\n",
       "      <td>research_&amp;_development</td>\n",
       "      <td>8</td>\n",
       "      <td>below_college</td>\n",
       "      <td>life_sciences</td>\n",
       "      <td>1</td>\n",
       "      <td>2</td>\n",
       "      <td>...</td>\n",
       "      <td>very_high</td>\n",
       "      <td>80</td>\n",
       "      <td>1</td>\n",
       "      <td>10</td>\n",
       "      <td>3</td>\n",
       "      <td>better</td>\n",
       "      <td>10</td>\n",
       "      <td>7</td>\n",
       "      <td>1</td>\n",
       "      <td>7</td>\n",
       "    </tr>\n",
       "    <tr>\n",
       "      <th>2</th>\n",
       "      <td>37</td>\n",
       "      <td>yes</td>\n",
       "      <td>travel_rarely</td>\n",
       "      <td>1373</td>\n",
       "      <td>research_&amp;_development</td>\n",
       "      <td>2</td>\n",
       "      <td>college</td>\n",
       "      <td>other</td>\n",
       "      <td>1</td>\n",
       "      <td>4</td>\n",
       "      <td>...</td>\n",
       "      <td>medium</td>\n",
       "      <td>80</td>\n",
       "      <td>0</td>\n",
       "      <td>7</td>\n",
       "      <td>3</td>\n",
       "      <td>better</td>\n",
       "      <td>0</td>\n",
       "      <td>0</td>\n",
       "      <td>0</td>\n",
       "      <td>0</td>\n",
       "    </tr>\n",
       "    <tr>\n",
       "      <th>3</th>\n",
       "      <td>33</td>\n",
       "      <td>no</td>\n",
       "      <td>travel_frequently</td>\n",
       "      <td>1392</td>\n",
       "      <td>research_&amp;_development</td>\n",
       "      <td>3</td>\n",
       "      <td>master</td>\n",
       "      <td>life_sciences</td>\n",
       "      <td>1</td>\n",
       "      <td>5</td>\n",
       "      <td>...</td>\n",
       "      <td>high</td>\n",
       "      <td>80</td>\n",
       "      <td>0</td>\n",
       "      <td>8</td>\n",
       "      <td>3</td>\n",
       "      <td>better</td>\n",
       "      <td>8</td>\n",
       "      <td>7</td>\n",
       "      <td>3</td>\n",
       "      <td>0</td>\n",
       "    </tr>\n",
       "    <tr>\n",
       "      <th>4</th>\n",
       "      <td>27</td>\n",
       "      <td>no</td>\n",
       "      <td>travel_rarely</td>\n",
       "      <td>591</td>\n",
       "      <td>research_&amp;_development</td>\n",
       "      <td>2</td>\n",
       "      <td>below_college</td>\n",
       "      <td>medical</td>\n",
       "      <td>1</td>\n",
       "      <td>7</td>\n",
       "      <td>...</td>\n",
       "      <td>very_high</td>\n",
       "      <td>80</td>\n",
       "      <td>1</td>\n",
       "      <td>6</td>\n",
       "      <td>3</td>\n",
       "      <td>better</td>\n",
       "      <td>2</td>\n",
       "      <td>2</td>\n",
       "      <td>2</td>\n",
       "      <td>2</td>\n",
       "    </tr>\n",
       "  </tbody>\n",
       "</table>\n",
       "<p>5 rows × 35 columns</p>\n",
       "</div>"
      ],
      "text/plain": [
       "   age attrition     businesstravel  dailyrate              department  \\\n",
       "0   41       yes      travel_rarely       1102                   sales   \n",
       "1   49        no  travel_frequently        279  research_&_development   \n",
       "2   37       yes      travel_rarely       1373  research_&_development   \n",
       "3   33        no  travel_frequently       1392  research_&_development   \n",
       "4   27        no      travel_rarely        591  research_&_development   \n",
       "\n",
       "   distancefromhome      education educationfield  employeecount  \\\n",
       "0                 1        college  life_sciences              1   \n",
       "1                 8  below_college  life_sciences              1   \n",
       "2                 2        college          other              1   \n",
       "3                 3         master  life_sciences              1   \n",
       "4                 2  below_college        medical              1   \n",
       "\n",
       "   employeenumber  ... relationshipsatisfaction standardhours  \\\n",
       "0               1  ...                      low            80   \n",
       "1               2  ...                very_high            80   \n",
       "2               4  ...                   medium            80   \n",
       "3               5  ...                     high            80   \n",
       "4               7  ...                very_high            80   \n",
       "\n",
       "   stockoptionlevel totalworkingyears  trainingtimeslastyear worklifebalance  \\\n",
       "0                 0                 8                      0             bad   \n",
       "1                 1                10                      3          better   \n",
       "2                 0                 7                      3          better   \n",
       "3                 0                 8                      3          better   \n",
       "4                 1                 6                      3          better   \n",
       "\n",
       "  yearsatcompany yearsincurrentrole  yearssincelastpromotion  \\\n",
       "0              6                  4                        0   \n",
       "1             10                  7                        1   \n",
       "2              0                  0                        0   \n",
       "3              8                  7                        3   \n",
       "4              2                  2                        2   \n",
       "\n",
       "   yearswithcurrmanager  \n",
       "0                     5  \n",
       "1                     7  \n",
       "2                     0  \n",
       "3                     0  \n",
       "4                     2  \n",
       "\n",
       "[5 rows x 35 columns]"
      ]
     },
     "execution_count": 129,
     "metadata": {},
     "output_type": "execute_result"
    }
   ],
   "source": [
    "df.head()"
   ]
  },
  {
   "cell_type": "markdown",
   "metadata": {
    "slideshow": {
     "slide_type": "skip"
    }
   },
   "source": [
    "### save the cleaned dataset"
   ]
  },
  {
   "cell_type": "code",
   "execution_count": 130,
   "metadata": {
    "slideshow": {
     "slide_type": "skip"
    }
   },
   "outputs": [],
   "source": [
    "cleaned_data= df.to_csv(\"../data/cleaned_data.csv\", index=False)"
   ]
  },
  {
   "cell_type": "markdown",
   "metadata": {
    "slideshow": {
     "slide_type": "skip"
    }
   },
   "source": [
    "### eda"
   ]
  },
  {
   "cell_type": "code",
   "execution_count": 131,
   "metadata": {
    "slideshow": {
     "slide_type": "skip"
    }
   },
   "outputs": [],
   "source": [
    "data = pd.read_csv(\"../data/cleaned_data.csv\")"
   ]
  },
  {
   "cell_type": "code",
   "execution_count": 132,
   "metadata": {
    "slideshow": {
     "slide_type": "skip"
    }
   },
   "outputs": [
    {
     "data": {
      "text/html": [
       "<div>\n",
       "<style scoped>\n",
       "    .dataframe tbody tr th:only-of-type {\n",
       "        vertical-align: middle;\n",
       "    }\n",
       "\n",
       "    .dataframe tbody tr th {\n",
       "        vertical-align: top;\n",
       "    }\n",
       "\n",
       "    .dataframe thead th {\n",
       "        text-align: right;\n",
       "    }\n",
       "</style>\n",
       "<table border=\"1\" class=\"dataframe\">\n",
       "  <thead>\n",
       "    <tr style=\"text-align: right;\">\n",
       "      <th></th>\n",
       "      <th>0</th>\n",
       "      <th>1</th>\n",
       "      <th>2</th>\n",
       "      <th>3</th>\n",
       "      <th>4</th>\n",
       "    </tr>\n",
       "  </thead>\n",
       "  <tbody>\n",
       "    <tr>\n",
       "      <th>age</th>\n",
       "      <td>41</td>\n",
       "      <td>49</td>\n",
       "      <td>37</td>\n",
       "      <td>33</td>\n",
       "      <td>27</td>\n",
       "    </tr>\n",
       "    <tr>\n",
       "      <th>attrition</th>\n",
       "      <td>yes</td>\n",
       "      <td>no</td>\n",
       "      <td>yes</td>\n",
       "      <td>no</td>\n",
       "      <td>no</td>\n",
       "    </tr>\n",
       "    <tr>\n",
       "      <th>businesstravel</th>\n",
       "      <td>travel_rarely</td>\n",
       "      <td>travel_frequently</td>\n",
       "      <td>travel_rarely</td>\n",
       "      <td>travel_frequently</td>\n",
       "      <td>travel_rarely</td>\n",
       "    </tr>\n",
       "    <tr>\n",
       "      <th>dailyrate</th>\n",
       "      <td>1102</td>\n",
       "      <td>279</td>\n",
       "      <td>1373</td>\n",
       "      <td>1392</td>\n",
       "      <td>591</td>\n",
       "    </tr>\n",
       "    <tr>\n",
       "      <th>department</th>\n",
       "      <td>sales</td>\n",
       "      <td>research_&amp;_development</td>\n",
       "      <td>research_&amp;_development</td>\n",
       "      <td>research_&amp;_development</td>\n",
       "      <td>research_&amp;_development</td>\n",
       "    </tr>\n",
       "    <tr>\n",
       "      <th>distancefromhome</th>\n",
       "      <td>1</td>\n",
       "      <td>8</td>\n",
       "      <td>2</td>\n",
       "      <td>3</td>\n",
       "      <td>2</td>\n",
       "    </tr>\n",
       "    <tr>\n",
       "      <th>education</th>\n",
       "      <td>college</td>\n",
       "      <td>below_college</td>\n",
       "      <td>college</td>\n",
       "      <td>master</td>\n",
       "      <td>below_college</td>\n",
       "    </tr>\n",
       "    <tr>\n",
       "      <th>educationfield</th>\n",
       "      <td>life_sciences</td>\n",
       "      <td>life_sciences</td>\n",
       "      <td>other</td>\n",
       "      <td>life_sciences</td>\n",
       "      <td>medical</td>\n",
       "    </tr>\n",
       "    <tr>\n",
       "      <th>employeecount</th>\n",
       "      <td>1</td>\n",
       "      <td>1</td>\n",
       "      <td>1</td>\n",
       "      <td>1</td>\n",
       "      <td>1</td>\n",
       "    </tr>\n",
       "    <tr>\n",
       "      <th>employeenumber</th>\n",
       "      <td>1</td>\n",
       "      <td>2</td>\n",
       "      <td>4</td>\n",
       "      <td>5</td>\n",
       "      <td>7</td>\n",
       "    </tr>\n",
       "    <tr>\n",
       "      <th>environmentsatisfaction</th>\n",
       "      <td>medium</td>\n",
       "      <td>high</td>\n",
       "      <td>very_high</td>\n",
       "      <td>very_high</td>\n",
       "      <td>low</td>\n",
       "    </tr>\n",
       "    <tr>\n",
       "      <th>gender</th>\n",
       "      <td>female</td>\n",
       "      <td>male</td>\n",
       "      <td>male</td>\n",
       "      <td>female</td>\n",
       "      <td>male</td>\n",
       "    </tr>\n",
       "    <tr>\n",
       "      <th>hourlyrate</th>\n",
       "      <td>94</td>\n",
       "      <td>61</td>\n",
       "      <td>92</td>\n",
       "      <td>56</td>\n",
       "      <td>40</td>\n",
       "    </tr>\n",
       "    <tr>\n",
       "      <th>jobinvolvement</th>\n",
       "      <td>high</td>\n",
       "      <td>medium</td>\n",
       "      <td>medium</td>\n",
       "      <td>high</td>\n",
       "      <td>high</td>\n",
       "    </tr>\n",
       "    <tr>\n",
       "      <th>joblevel</th>\n",
       "      <td>2</td>\n",
       "      <td>2</td>\n",
       "      <td>1</td>\n",
       "      <td>1</td>\n",
       "      <td>1</td>\n",
       "    </tr>\n",
       "    <tr>\n",
       "      <th>jobrole</th>\n",
       "      <td>sales_executive</td>\n",
       "      <td>research_scientist</td>\n",
       "      <td>laboratory_technician</td>\n",
       "      <td>research_scientist</td>\n",
       "      <td>laboratory_technician</td>\n",
       "    </tr>\n",
       "    <tr>\n",
       "      <th>jobsatisfaction</th>\n",
       "      <td>very_high</td>\n",
       "      <td>medium</td>\n",
       "      <td>high</td>\n",
       "      <td>high</td>\n",
       "      <td>medium</td>\n",
       "    </tr>\n",
       "    <tr>\n",
       "      <th>maritalstatus</th>\n",
       "      <td>single</td>\n",
       "      <td>married</td>\n",
       "      <td>single</td>\n",
       "      <td>married</td>\n",
       "      <td>married</td>\n",
       "    </tr>\n",
       "    <tr>\n",
       "      <th>monthlyincome</th>\n",
       "      <td>5993</td>\n",
       "      <td>5130</td>\n",
       "      <td>2090</td>\n",
       "      <td>2909</td>\n",
       "      <td>3468</td>\n",
       "    </tr>\n",
       "    <tr>\n",
       "      <th>monthlyrate</th>\n",
       "      <td>19479</td>\n",
       "      <td>24907</td>\n",
       "      <td>2396</td>\n",
       "      <td>23159</td>\n",
       "      <td>16632</td>\n",
       "    </tr>\n",
       "    <tr>\n",
       "      <th>numcompaniesworked</th>\n",
       "      <td>8</td>\n",
       "      <td>1</td>\n",
       "      <td>6</td>\n",
       "      <td>1</td>\n",
       "      <td>9</td>\n",
       "    </tr>\n",
       "    <tr>\n",
       "      <th>over18</th>\n",
       "      <td>y</td>\n",
       "      <td>y</td>\n",
       "      <td>y</td>\n",
       "      <td>y</td>\n",
       "      <td>y</td>\n",
       "    </tr>\n",
       "    <tr>\n",
       "      <th>overtime</th>\n",
       "      <td>yes</td>\n",
       "      <td>no</td>\n",
       "      <td>yes</td>\n",
       "      <td>yes</td>\n",
       "      <td>no</td>\n",
       "    </tr>\n",
       "    <tr>\n",
       "      <th>percentsalaryhike</th>\n",
       "      <td>11</td>\n",
       "      <td>23</td>\n",
       "      <td>15</td>\n",
       "      <td>11</td>\n",
       "      <td>12</td>\n",
       "    </tr>\n",
       "    <tr>\n",
       "      <th>performancerating</th>\n",
       "      <td>excellent</td>\n",
       "      <td>outstanding</td>\n",
       "      <td>excellent</td>\n",
       "      <td>excellent</td>\n",
       "      <td>excellent</td>\n",
       "    </tr>\n",
       "    <tr>\n",
       "      <th>relationshipsatisfaction</th>\n",
       "      <td>low</td>\n",
       "      <td>very_high</td>\n",
       "      <td>medium</td>\n",
       "      <td>high</td>\n",
       "      <td>very_high</td>\n",
       "    </tr>\n",
       "    <tr>\n",
       "      <th>standardhours</th>\n",
       "      <td>80</td>\n",
       "      <td>80</td>\n",
       "      <td>80</td>\n",
       "      <td>80</td>\n",
       "      <td>80</td>\n",
       "    </tr>\n",
       "    <tr>\n",
       "      <th>stockoptionlevel</th>\n",
       "      <td>0</td>\n",
       "      <td>1</td>\n",
       "      <td>0</td>\n",
       "      <td>0</td>\n",
       "      <td>1</td>\n",
       "    </tr>\n",
       "    <tr>\n",
       "      <th>totalworkingyears</th>\n",
       "      <td>8</td>\n",
       "      <td>10</td>\n",
       "      <td>7</td>\n",
       "      <td>8</td>\n",
       "      <td>6</td>\n",
       "    </tr>\n",
       "    <tr>\n",
       "      <th>trainingtimeslastyear</th>\n",
       "      <td>0</td>\n",
       "      <td>3</td>\n",
       "      <td>3</td>\n",
       "      <td>3</td>\n",
       "      <td>3</td>\n",
       "    </tr>\n",
       "    <tr>\n",
       "      <th>worklifebalance</th>\n",
       "      <td>bad</td>\n",
       "      <td>better</td>\n",
       "      <td>better</td>\n",
       "      <td>better</td>\n",
       "      <td>better</td>\n",
       "    </tr>\n",
       "    <tr>\n",
       "      <th>yearsatcompany</th>\n",
       "      <td>6</td>\n",
       "      <td>10</td>\n",
       "      <td>0</td>\n",
       "      <td>8</td>\n",
       "      <td>2</td>\n",
       "    </tr>\n",
       "    <tr>\n",
       "      <th>yearsincurrentrole</th>\n",
       "      <td>4</td>\n",
       "      <td>7</td>\n",
       "      <td>0</td>\n",
       "      <td>7</td>\n",
       "      <td>2</td>\n",
       "    </tr>\n",
       "    <tr>\n",
       "      <th>yearssincelastpromotion</th>\n",
       "      <td>0</td>\n",
       "      <td>1</td>\n",
       "      <td>0</td>\n",
       "      <td>3</td>\n",
       "      <td>2</td>\n",
       "    </tr>\n",
       "    <tr>\n",
       "      <th>yearswithcurrmanager</th>\n",
       "      <td>5</td>\n",
       "      <td>7</td>\n",
       "      <td>0</td>\n",
       "      <td>0</td>\n",
       "      <td>2</td>\n",
       "    </tr>\n",
       "  </tbody>\n",
       "</table>\n",
       "</div>"
      ],
      "text/plain": [
       "                                        0                       1  \\\n",
       "age                                    41                      49   \n",
       "attrition                             yes                      no   \n",
       "businesstravel              travel_rarely       travel_frequently   \n",
       "dailyrate                            1102                     279   \n",
       "department                          sales  research_&_development   \n",
       "distancefromhome                        1                       8   \n",
       "education                         college           below_college   \n",
       "educationfield              life_sciences           life_sciences   \n",
       "employeecount                           1                       1   \n",
       "employeenumber                          1                       2   \n",
       "environmentsatisfaction            medium                    high   \n",
       "gender                             female                    male   \n",
       "hourlyrate                             94                      61   \n",
       "jobinvolvement                       high                  medium   \n",
       "joblevel                                2                       2   \n",
       "jobrole                   sales_executive      research_scientist   \n",
       "jobsatisfaction                 very_high                  medium   \n",
       "maritalstatus                      single                 married   \n",
       "monthlyincome                        5993                    5130   \n",
       "monthlyrate                         19479                   24907   \n",
       "numcompaniesworked                      8                       1   \n",
       "over18                                  y                       y   \n",
       "overtime                              yes                      no   \n",
       "percentsalaryhike                      11                      23   \n",
       "performancerating               excellent             outstanding   \n",
       "relationshipsatisfaction              low               very_high   \n",
       "standardhours                          80                      80   \n",
       "stockoptionlevel                        0                       1   \n",
       "totalworkingyears                       8                      10   \n",
       "trainingtimeslastyear                   0                       3   \n",
       "worklifebalance                       bad                  better   \n",
       "yearsatcompany                          6                      10   \n",
       "yearsincurrentrole                      4                       7   \n",
       "yearssincelastpromotion                 0                       1   \n",
       "yearswithcurrmanager                    5                       7   \n",
       "\n",
       "                                               2                       3  \\\n",
       "age                                           37                      33   \n",
       "attrition                                    yes                      no   \n",
       "businesstravel                     travel_rarely       travel_frequently   \n",
       "dailyrate                                   1373                    1392   \n",
       "department                research_&_development  research_&_development   \n",
       "distancefromhome                               2                       3   \n",
       "education                                college                  master   \n",
       "educationfield                             other           life_sciences   \n",
       "employeecount                                  1                       1   \n",
       "employeenumber                                 4                       5   \n",
       "environmentsatisfaction                very_high               very_high   \n",
       "gender                                      male                  female   \n",
       "hourlyrate                                    92                      56   \n",
       "jobinvolvement                            medium                    high   \n",
       "joblevel                                       1                       1   \n",
       "jobrole                    laboratory_technician      research_scientist   \n",
       "jobsatisfaction                             high                    high   \n",
       "maritalstatus                             single                 married   \n",
       "monthlyincome                               2090                    2909   \n",
       "monthlyrate                                 2396                   23159   \n",
       "numcompaniesworked                             6                       1   \n",
       "over18                                         y                       y   \n",
       "overtime                                     yes                     yes   \n",
       "percentsalaryhike                             15                      11   \n",
       "performancerating                      excellent               excellent   \n",
       "relationshipsatisfaction                  medium                    high   \n",
       "standardhours                                 80                      80   \n",
       "stockoptionlevel                               0                       0   \n",
       "totalworkingyears                              7                       8   \n",
       "trainingtimeslastyear                          3                       3   \n",
       "worklifebalance                           better                  better   \n",
       "yearsatcompany                                 0                       8   \n",
       "yearsincurrentrole                             0                       7   \n",
       "yearssincelastpromotion                        0                       3   \n",
       "yearswithcurrmanager                           0                       0   \n",
       "\n",
       "                                               4  \n",
       "age                                           27  \n",
       "attrition                                     no  \n",
       "businesstravel                     travel_rarely  \n",
       "dailyrate                                    591  \n",
       "department                research_&_development  \n",
       "distancefromhome                               2  \n",
       "education                          below_college  \n",
       "educationfield                           medical  \n",
       "employeecount                                  1  \n",
       "employeenumber                                 7  \n",
       "environmentsatisfaction                      low  \n",
       "gender                                      male  \n",
       "hourlyrate                                    40  \n",
       "jobinvolvement                              high  \n",
       "joblevel                                       1  \n",
       "jobrole                    laboratory_technician  \n",
       "jobsatisfaction                           medium  \n",
       "maritalstatus                            married  \n",
       "monthlyincome                               3468  \n",
       "monthlyrate                                16632  \n",
       "numcompaniesworked                             9  \n",
       "over18                                         y  \n",
       "overtime                                      no  \n",
       "percentsalaryhike                             12  \n",
       "performancerating                      excellent  \n",
       "relationshipsatisfaction               very_high  \n",
       "standardhours                                 80  \n",
       "stockoptionlevel                               1  \n",
       "totalworkingyears                              6  \n",
       "trainingtimeslastyear                          3  \n",
       "worklifebalance                           better  \n",
       "yearsatcompany                                 2  \n",
       "yearsincurrentrole                             2  \n",
       "yearssincelastpromotion                        2  \n",
       "yearswithcurrmanager                           2  "
      ]
     },
     "execution_count": 132,
     "metadata": {},
     "output_type": "execute_result"
    }
   ],
   "source": [
    "data.head().T"
   ]
  },
  {
   "cell_type": "code",
   "execution_count": 133,
   "metadata": {
    "slideshow": {
     "slide_type": "skip"
    }
   },
   "outputs": [
    {
     "name": "stdout",
     "output_type": "stream",
     "text": [
      "<class 'pandas.core.frame.DataFrame'>\n",
      "RangeIndex: 1470 entries, 0 to 1469\n",
      "Data columns (total 35 columns):\n",
      " #   Column                    Non-Null Count  Dtype \n",
      "---  ------                    --------------  ----- \n",
      " 0   age                       1470 non-null   int64 \n",
      " 1   attrition                 1470 non-null   object\n",
      " 2   businesstravel            1470 non-null   object\n",
      " 3   dailyrate                 1470 non-null   int64 \n",
      " 4   department                1470 non-null   object\n",
      " 5   distancefromhome          1470 non-null   int64 \n",
      " 6   education                 1470 non-null   object\n",
      " 7   educationfield            1470 non-null   object\n",
      " 8   employeecount             1470 non-null   int64 \n",
      " 9   employeenumber            1470 non-null   int64 \n",
      " 10  environmentsatisfaction   1470 non-null   object\n",
      " 11  gender                    1470 non-null   object\n",
      " 12  hourlyrate                1470 non-null   int64 \n",
      " 13  jobinvolvement            1470 non-null   object\n",
      " 14  joblevel                  1470 non-null   int64 \n",
      " 15  jobrole                   1470 non-null   object\n",
      " 16  jobsatisfaction           1470 non-null   object\n",
      " 17  maritalstatus             1470 non-null   object\n",
      " 18  monthlyincome             1470 non-null   int64 \n",
      " 19  monthlyrate               1470 non-null   int64 \n",
      " 20  numcompaniesworked        1470 non-null   int64 \n",
      " 21  over18                    1470 non-null   object\n",
      " 22  overtime                  1470 non-null   object\n",
      " 23  percentsalaryhike         1470 non-null   int64 \n",
      " 24  performancerating         1470 non-null   object\n",
      " 25  relationshipsatisfaction  1470 non-null   object\n",
      " 26  standardhours             1470 non-null   int64 \n",
      " 27  stockoptionlevel          1470 non-null   int64 \n",
      " 28  totalworkingyears         1470 non-null   int64 \n",
      " 29  trainingtimeslastyear     1470 non-null   int64 \n",
      " 30  worklifebalance           1470 non-null   object\n",
      " 31  yearsatcompany            1470 non-null   int64 \n",
      " 32  yearsincurrentrole        1470 non-null   int64 \n",
      " 33  yearssincelastpromotion   1470 non-null   int64 \n",
      " 34  yearswithcurrmanager      1470 non-null   int64 \n",
      "dtypes: int64(19), object(16)\n",
      "memory usage: 402.1+ KB\n"
     ]
    }
   ],
   "source": [
    "data.info()"
   ]
  },
  {
   "cell_type": "markdown",
   "metadata": {
    "slideshow": {
     "slide_type": "skip"
    }
   },
   "source": [
    "# Univarant Analysis"
   ]
  },
  {
   "cell_type": "code",
   "execution_count": 134,
   "metadata": {
    "slideshow": {
     "slide_type": "skip"
    }
   },
   "outputs": [
    {
     "name": "stdout",
     "output_type": "stream",
     "text": [
      "<class 'pandas.core.frame.DataFrame'>\n",
      "RangeIndex: 1470 entries, 0 to 1469\n",
      "Data columns (total 35 columns):\n",
      " #   Column                    Non-Null Count  Dtype \n",
      "---  ------                    --------------  ----- \n",
      " 0   age                       1470 non-null   int64 \n",
      " 1   attrition                 1470 non-null   object\n",
      " 2   businesstravel            1470 non-null   object\n",
      " 3   dailyrate                 1470 non-null   int64 \n",
      " 4   department                1470 non-null   object\n",
      " 5   distancefromhome          1470 non-null   int64 \n",
      " 6   education                 1470 non-null   object\n",
      " 7   educationfield            1470 non-null   object\n",
      " 8   employeecount             1470 non-null   int64 \n",
      " 9   employeenumber            1470 non-null   int64 \n",
      " 10  environmentsatisfaction   1470 non-null   object\n",
      " 11  gender                    1470 non-null   object\n",
      " 12  hourlyrate                1470 non-null   int64 \n",
      " 13  jobinvolvement            1470 non-null   object\n",
      " 14  joblevel                  1470 non-null   int64 \n",
      " 15  jobrole                   1470 non-null   object\n",
      " 16  jobsatisfaction           1470 non-null   object\n",
      " 17  maritalstatus             1470 non-null   object\n",
      " 18  monthlyincome             1470 non-null   int64 \n",
      " 19  monthlyrate               1470 non-null   int64 \n",
      " 20  numcompaniesworked        1470 non-null   int64 \n",
      " 21  over18                    1470 non-null   object\n",
      " 22  overtime                  1470 non-null   object\n",
      " 23  percentsalaryhike         1470 non-null   int64 \n",
      " 24  performancerating         1470 non-null   object\n",
      " 25  relationshipsatisfaction  1470 non-null   object\n",
      " 26  standardhours             1470 non-null   int64 \n",
      " 27  stockoptionlevel          1470 non-null   int64 \n",
      " 28  totalworkingyears         1470 non-null   int64 \n",
      " 29  trainingtimeslastyear     1470 non-null   int64 \n",
      " 30  worklifebalance           1470 non-null   object\n",
      " 31  yearsatcompany            1470 non-null   int64 \n",
      " 32  yearsincurrentrole        1470 non-null   int64 \n",
      " 33  yearssincelastpromotion   1470 non-null   int64 \n",
      " 34  yearswithcurrmanager      1470 non-null   int64 \n",
      "dtypes: int64(19), object(16)\n",
      "memory usage: 402.1+ KB\n"
     ]
    }
   ],
   "source": [
    "data.info()"
   ]
  },
  {
   "cell_type": "code",
   "execution_count": 135,
   "metadata": {
    "slideshow": {
     "slide_type": "skip"
    }
   },
   "outputs": [
    {
     "name": "stdout",
     "output_type": "stream",
     "text": [
      "Attrition Rate:\n",
      "attrition\n",
      "no     0.838776\n",
      "yes    0.161224\n",
      "Name: proportion, dtype: float64\n"
     ]
    }
   ],
   "source": [
    "attrition_rate = data['attrition'].value_counts(normalize=True)\n",
    "print(f\"Attrition Rate:\\n{attrition_rate}\")"
   ]
  },
  {
   "cell_type": "code",
   "execution_count": 136,
   "metadata": {
    "slideshow": {
     "slide_type": "skip"
    }
   },
   "outputs": [],
   "source": [
    "\n",
    "def plot_count_with_percentage(data, column):\n",
    "    \"\"\"\n",
    "    Creates a horizontal count plot with percentage values displayed on each bar.\n",
    "    \n",
    "    Parameters:\n",
    "    - data: pandas DataFrame containing the dataset\n",
    "    - column: string, the column name for which the count plot is generated\n",
    "    \"\"\"\n",
    "    # Get the count of each category in the specified column\n",
    "    count_values = data[column].value_counts()\n",
    "\n",
    "    # Sort the categories by count\n",
    "    order = count_values.index\n",
    "\n",
    "    # Create the count plot\n",
    "    ax = sns.countplot(y=column, data=data, order=order)\n",
    "\n",
    "    # Add percentage labels to the bars\n",
    "    total = len(data)  # Total number of entries in the dataset\n",
    "\n",
    "    # Loop through each bar and annotate it with the percentage value\n",
    "    for p in ax.patches:\n",
    "        width = p.get_width()  # Get the width (count) of the bar\n",
    "        percentage = (width / total) * 100  # Calculate percentage\n",
    "        ax.text(width + 2, p.get_y() + p.get_height() / 2, f'{percentage:.1f}%', \n",
    "                va='center', ha='left', fontsize=10)\n",
    "\n",
    "    # Add title and show the plot\n",
    "    plt.title(f'{column} with Percentage')\n",
    "    plt.show()"
   ]
  },
  {
   "cell_type": "code",
   "execution_count": 137,
   "metadata": {
    "slideshow": {
     "slide_type": "skip"
    }
   },
   "outputs": [
    {
     "data": {
      "text/plain": [
       "1470"
      ]
     },
     "execution_count": 137,
     "metadata": {},
     "output_type": "execute_result"
    }
   ],
   "source": [
    "data.employeenumber.value_counts().sum()"
   ]
  },
  {
   "cell_type": "markdown",
   "metadata": {},
   "source": [
    "# Univarant Analysis"
   ]
  },
  {
   "cell_type": "code",
   "execution_count": 138,
   "metadata": {
    "slideshow": {
     "slide_type": "subslide"
    }
   },
   "outputs": [
    {
     "data": {
      "image/png": "[encoded data removed]",
      "text/plain": [
       "<Figure size 640x480 with 1 Axes>"
      ]
     },
     "metadata": {},
     "output_type": "display_data"
    }
   ],
   "source": [
    "plot_count_with_percentage(data, 'attrition')"
   ]
  },
  {
   "cell_type": "markdown",
   "metadata": {
    "slideshow": {
     "slide_type": "slide"
    }
   },
   "source": [
    "- In our dataset from the 1470\n",
    "    - 83.9%(1233) not Attrition\n",
    "    - 16.1%(237) is Attrition"
   ]
  },
  {
   "cell_type": "code",
   "execution_count": 139,
   "metadata": {
    "slideshow": {
     "slide_type": "subslide"
    }
   },
   "outputs": [
    {
     "data": {
      "image/png": "[encoded data removed]",
      "text/plain": [
       "<Figure size 640x480 with 1 Axes>"
      ]
     },
     "metadata": {},
     "output_type": "display_data"
    }
   ],
   "source": [
    "plot_count_with_percentage(data, 'education')"
   ]
  },
  {
   "cell_type": "markdown",
   "metadata": {
    "slideshow": {
     "slide_type": "slide"
    }
   },
   "source": [
    "- Educational level of of employs \n",
    "     - 38.9% Bachelor\n",
    "     - 27.71% Masters\n",
    "     - 19.2% College\n",
    "     - 11.6% Below College(highschool)\n",
    "     - 3.3% Doctor"
   ]
  },
  {
   "cell_type": "code",
   "execution_count": 140,
   "metadata": {
    "slideshow": {
     "slide_type": "subslide"
    }
   },
   "outputs": [
    {
     "data": {
      "image/png": "[encoded data removed]",
      "text/plain": [
       "<Figure size 640x480 with 1 Axes>"
      ]
     },
     "metadata": {},
     "output_type": "display_data"
    }
   ],
   "source": [
    "plot_count_with_percentage(data, 'educationfield')"
   ]
  },
  {
   "cell_type": "code",
   "execution_count": 141,
   "metadata": {
    "slideshow": {
     "slide_type": "subslide"
    }
   },
   "outputs": [
    {
     "data": {
      "image/png": "[encoded data removed]",
      "text/plain": [
       "<Figure size 640x480 with 1 Axes>"
      ]
     },
     "metadata": {},
     "output_type": "display_data"
    }
   ],
   "source": [
    "plot_count_with_percentage(data, 'department')"
   ]
  },
  {
   "cell_type": "markdown",
   "metadata": {},
   "source": [
    "# Bivariate Analysis"
   ]
  },
  {
   "cell_type": "markdown",
   "metadata": {},
   "source": [
    "### Job Role vs. Attrition"
   ]
  },
  {
   "cell_type": "code",
   "execution_count": 142,
   "metadata": {},
   "outputs": [],
   "source": [
    "\n",
    "def plot_attrition_by_jobrole(data, x_col='jobrole', hue_col='attrition'):\n",
    "    \"\"\"\n",
    "    Plots a horizontal countplot of attrition by job role with percentage labels,\n",
    "    sorted by total count.\n",
    "\n",
    "    Parameters:\n",
    "    - data (pd.DataFrame): The dataset containing job roles and attrition columns.\n",
    "    - x_col (str): The column for the x-axis (default is 'jobrole').\n",
    "    - hue_col (str): The column for hue, typically the 'attrition' status (default is 'attrition').\n",
    "    \"\"\"\n",
    "    # Ensure the x_col is categorical\n",
    "    if not pd.api.types.is_categorical_dtype(data[x_col]):\n",
    "        data[x_col] = data[x_col].astype('category')\n",
    "\n",
    "    # Calculate total counts for sorting\n",
    "    sorted_jobroles = data[x_col].value_counts().index\n",
    "\n",
    "    # Set figure size\n",
    "    plt.figure(figsize=(12, 8))\n",
    "\n",
    "    # Create horizontal countplot with sorted x categories\n",
    "    plot = sns.countplot(y=x_col, hue=hue_col, data=data, order=sorted_jobroles)\n",
    "    plt.title('Attrition by Job Role (Sorted)')\n",
    "\n",
    "    # Calculate total counts for each x category\n",
    "    total_counts = data.groupby([x_col])[hue_col].count().to_dict()\n",
    "\n",
    "    # Add percentage labels\n",
    "    for p in plot.patches:\n",
    "        # Extract bar values\n",
    "        height = p.get_width()\n",
    "        y_position = p.get_y() + p.get_height() / 2\n",
    "        \n",
    "        # Get the name of the y category (job role)\n",
    "        job_role = p.get_y() + p.get_height() / 2\n",
    "        category_index = int(round(p.get_y()))\n",
    "        job_role = sorted_jobroles[category_index]\n",
    "\n",
    "        # Calculate percentage\n",
    "        total = total_counts[job_role]\n",
    "        percentage = f'{(height / total) * 100:.1f}%'\n",
    "\n",
    "        # Annotate percentage next to bars\n",
    "        plot.annotate(percentage,\n",
    "                      (height, y_position),\n",
    "                      ha='center',\n",
    "                      va='center',\n",
    "                      color='black',\n",
    "                      fontsize=10)\n",
    "\n",
    "    plt.show()"
   ]
  },
  {
   "cell_type": "code",
   "execution_count": 143,
   "metadata": {},
   "outputs": [
    {
     "name": "stderr",
     "output_type": "stream",
     "text": [
      "/var/folders/9s/3_yd7q9j0y33cb8h3dv8psvm0000gn/T/ipykernel_30346/4256379683.py:12: DeprecationWarning: is_categorical_dtype is deprecated and will be removed in a future version. Use isinstance(dtype, pd.CategoricalDtype) instead\n",
      "  if not pd.api.types.is_categorical_dtype(data[x_col]):\n",
      "/var/folders/9s/3_yd7q9j0y33cb8h3dv8psvm0000gn/T/ipykernel_30346/4256379683.py:26: FutureWarning: The default of observed=False is deprecated and will be changed to True in a future version of pandas. Pass observed=False to retain current behavior or observed=True to adopt the future default and silence this warning.\n",
      "  total_counts = data.groupby([x_col])[hue_col].count().to_dict()\n"
     ]
    },
    {
     "data": {
      "image/png": "[encoded data removed]",
      "text/plain": [
       "<Figure size 1200x800 with 1 Axes>"
      ]
     },
     "metadata": {},
     "output_type": "display_data"
    }
   ],
   "source": [
    "plot_attrition_by_jobrole(data)"
   ]
  },
  {
   "cell_type": "markdown",
   "metadata": {},
   "source": [
    "- From our bivariate analysis the most hight attrition  job roles are  \n",
    "   - Sales representative attrition is 39.8%\n",
    "   - laboratory technician attrition is 23.9%\n",
    "   -  Human resources 23.1%"
   ]
  },
  {
   "cell_type": "markdown",
   "metadata": {},
   "source": [
    "### Department vs. Attrition:"
   ]
  },
  {
   "cell_type": "code",
   "execution_count": 144,
   "metadata": {},
   "outputs": [],
   "source": [
    "import matplotlib.pyplot as plt\n",
    "import seaborn as sns\n",
    "import pandas as pd\n",
    "\n",
    "def plot_attrition_by_category(data, x_col, hue_col='attrition', sorted_order=True):\n",
    "    \"\"\"\n",
    "    Plots a horizontal countplot of attrition by a specified category with percentage labels,\n",
    "    optionally sorted by total count.\n",
    "\n",
    "    Parameters:\n",
    "    - data (pd.DataFrame): The dataset containing the category and attrition columns.\n",
    "    - x_col (str): The column for the x-axis (e.g., 'jobrole', 'department').\n",
    "    - hue_col (str): The column for hue, typically the 'attrition' status (default is 'attrition').\n",
    "    - sorted_order (bool): Whether to sort the categories by total count (default is True).\n",
    "    \"\"\"\n",
    "    # Ensure the x_col is categorical\n",
    "    if not pd.api.types.is_categorical_dtype(data[x_col]):\n",
    "        data[x_col] = data[x_col].astype('category')\n",
    "\n",
    "    # Calculate total counts for sorting\n",
    "    if sorted_order:\n",
    "        sorted_categories = data[x_col].value_counts().index\n",
    "    else:\n",
    "        sorted_categories = data[x_col].cat.categories\n",
    "\n",
    "    # Set figure size\n",
    "    plt.figure(figsize=(12, 8))\n",
    "\n",
    "    # Create horizontal countplot with sorted categories\n",
    "    plot = sns.countplot(y=x_col, hue=hue_col, data=data, order=sorted_categories)\n",
    "    plt.title(f'Attrition by {x_col.capitalize()} (Sorted)')\n",
    "\n",
    "    # Calculate total counts for each x category\n",
    "    total_counts = data.groupby([x_col])[hue_col].count().to_dict()\n",
    "\n",
    "    # Add percentage labels\n",
    "    for p in plot.patches:\n",
    "        # Extract bar values\n",
    "        width = p.get_width()\n",
    "        y_position = p.get_y() + p.get_height() / 2\n",
    "        \n",
    "        # Get the name of the y category (department or job role)\n",
    "        category_index = int(round(p.get_y()))\n",
    "        category_name = sorted_categories[category_index]\n",
    "\n",
    "        # Calculate percentage\n",
    "        total = total_counts[category_name]\n",
    "        percentage = f'{(width / total) * 100:.1f}%'\n",
    "\n",
    "        # Annotate percentage next to bars\n",
    "        plot.annotate(percentage,\n",
    "                      (width, y_position),\n",
    "                      ha='center',\n",
    "                      va='center',\n",
    "                      color='black',\n",
    "                      fontsize=10)\n",
    "\n",
    "    plt.show()"
   ]
  },
  {
   "cell_type": "code",
   "execution_count": 145,
   "metadata": {},
   "outputs": [
    {
     "name": "stderr",
     "output_type": "stream",
     "text": [
      "/var/folders/9s/3_yd7q9j0y33cb8h3dv8psvm0000gn/T/ipykernel_30346/3392961643.py:17: DeprecationWarning: is_categorical_dtype is deprecated and will be removed in a future version. Use isinstance(dtype, pd.CategoricalDtype) instead\n",
      "  if not pd.api.types.is_categorical_dtype(data[x_col]):\n",
      "/var/folders/9s/3_yd7q9j0y33cb8h3dv8psvm0000gn/T/ipykernel_30346/3392961643.py:34: FutureWarning: The default of observed=False is deprecated and will be changed to True in a future version of pandas. Pass observed=False to retain current behavior or observed=True to adopt the future default and silence this warning.\n",
      "  total_counts = data.groupby([x_col])[hue_col].count().to_dict()\n"
     ]
    },
    {
     "data": {
      "image/png": "[encoded data removed]",
      "text/plain": [
       "<Figure size 1200x800 with 1 Axes>"
      ]
     },
     "metadata": {},
     "output_type": "display_data"
    }
   ],
   "source": [
    "plot_attrition_by_category(data, x_col='department')"
   ]
  },
  {
   "cell_type": "markdown",
   "metadata": {},
   "source": [
    "- From the above plot the most attrition department is sales "
   ]
  },
  {
   "cell_type": "markdown",
   "metadata": {},
   "source": [
    "### Gender vs. Attrition"
   ]
  },
  {
   "cell_type": "code",
   "execution_count": 146,
   "metadata": {},
   "outputs": [],
   "source": [
    "\n",
    "def plot_attrition_by_gender(data,columns):\n",
    "    \"\"\"\n",
    "    Plots a count plot of attrition by gender with percentile annotations.\n",
    "\n",
    "    Parameters:\n",
    "    - data: DataFrame containing 'gender' and 'attrition' columns.\n",
    "\n",
    "    Returns:\n",
    "    - A count plot showing attrition by gender with percentage annotations.\n",
    "    \"\"\"\n",
    "    \n",
    "    # Plotting the count plot\n",
    "    plt.figure(figsize=(10, 6))\n",
    "    ax = sns.countplot(x=columns, hue='attrition', data=data)\n",
    "    plt.title(f'Attrition by {columns.capitalize()}')\n",
    "    plt.xlabel(columns)\n",
    "    plt.ylabel('Count')\n",
    "\n",
    "    # Calculate total counts for each gender\n",
    "    total_counts = data.groupby([columns])['attrition'].count().values\n",
    "\n",
    "    # Annotating the percentiles\n",
    "    for p in ax.patches:\n",
    "        height = p.get_height()\n",
    "        total = total_counts[int(p.get_x() + p.get_width() / 2)]\n",
    "\n",
    "        # Calculate percentage\n",
    "        percentage = f'{(height / total) * 100:.1f}%'\n",
    "\n",
    "        # Annotate each bar\n",
    "        ax.annotate(percentage, (p.get_x() + p.get_width() / 2, height),\n",
    "                    ha='center', va='bottom', color='black', fontsize=12)\n",
    "\n",
    "    plt.show()"
   ]
  },
  {
   "cell_type": "code",
   "execution_count": 147,
   "metadata": {},
   "outputs": [
    {
     "data": {
      "image/png": "[encoded data removed]",
      "text/plain": [
       "<Figure size 1000x600 with 1 Axes>"
      ]
     },
     "metadata": {},
     "output_type": "display_data"
    }
   ],
   "source": [
    "plot_attrition_by_gender(data,'gender')"
   ]
  },
  {
   "cell_type": "markdown",
   "metadata": {},
   "source": [
    "- In Gender based attraction male are take the bigger  share\n",
    "    - Male 25.5%\n",
    "    - Females 14.8%"
   ]
  },
  {
   "cell_type": "code",
   "execution_count": 148,
   "metadata": {},
   "outputs": [],
   "source": [
    "\n",
    "def plot_attrition_by_education(data, columns):\n",
    "    \"\"\"\n",
    "    Plots a count plot of attrition by a specified column with percentage annotations.\n",
    "\n",
    "    Parameters:\n",
    "    - data: DataFrame containing the specified column and 'attrition' column.\n",
    "    - columns: The categorical column to plot (e.g., 'gender', 'education').\n",
    "\n",
    "    Returns:\n",
    "    - A count plot showing attrition by the specified column with percentage annotations.\n",
    "    \"\"\"\n",
    "    \n",
    "    # Plotting the count plot\n",
    "    plt.figure(figsize=(10, 6))\n",
    "    ax = sns.countplot(x=columns, hue='attrition', data=data)\n",
    "    plt.title(f'Attrition by {columns.capitalize()}')\n",
    "    plt.xlabel(columns)\n",
    "    plt.ylabel('Count')\n",
    "\n",
    "    # Calculate total counts for each category based on attrition status\n",
    "    total_counts = data.groupby([columns])['attrition'].value_counts().unstack().fillna(0)\n",
    "\n",
    "    # Annotating the percentiles\n",
    "    for p in ax.patches:\n",
    "        height = p.get_height()\n",
    "        category = p.get_x() + p.get_width() / 2\n",
    "        x_value = int(round(p.get_x()))\n",
    "        \n",
    "        # Get category name and attrition status\n",
    "        category_name = data[columns].cat.categories[x_value] if pd.api.types.is_categorical_dtype(data[columns]) else data[columns].unique()[x_value]\n",
    "        attrition_status = p.get_facecolor()[0] == 1  # 1: Attrition \"Yes\", 0: Attrition \"No\"\n",
    "\n",
    "        # Determine which attrition count to use for the percentage\n",
    "        total = total_counts.loc[category_name].sum()\n",
    "        \n",
    "        # Calculate percentage and add annotation\n",
    "        percentage = f'{(height / total) * 100:.1f}%'\n",
    "        ax.annotate(percentage, (p.get_x() + p.get_width() / 2, height), ha='center', va='bottom', color='black', fontsize=12)\n",
    "\n",
    "    plt.show()"
   ]
  },
  {
   "cell_type": "code",
   "execution_count": 149,
   "metadata": {},
   "outputs": [
    {
     "name": "stderr",
     "output_type": "stream",
     "text": [
      "/var/folders/9s/3_yd7q9j0y33cb8h3dv8psvm0000gn/T/ipykernel_30346/4269461675.py:30: DeprecationWarning: is_categorical_dtype is deprecated and will be removed in a future version. Use isinstance(dtype, pd.CategoricalDtype) instead\n",
      "  category_name = data[columns].cat.categories[x_value] if pd.api.types.is_categorical_dtype(data[columns]) else data[columns].unique()[x_value]\n"
     ]
    },
    {
     "data": {
      "image/png": "[encoded data removed]",
      "text/plain": [
       "<Figure size 1000x600 with 1 Axes>"
      ]
     },
     "metadata": {},
     "output_type": "display_data"
    }
   ],
   "source": [
    "plot_attrition_by_education(data,'education')"
   ]
  },
  {
   "cell_type": "markdown",
   "metadata": {},
   "source": [
    "- Based on educational the attrition values are  \n",
    "   - 18.2% Bellow college\n",
    "   - 17.3% Bachelor\n",
    "   - 16.6% College graduates"
   ]
  },
  {
   "cell_type": "code",
   "execution_count": 150,
   "metadata": {},
   "outputs": [
    {
     "name": "stderr",
     "output_type": "stream",
     "text": [
      "/var/folders/9s/3_yd7q9j0y33cb8h3dv8psvm0000gn/T/ipykernel_30346/4269461675.py:30: DeprecationWarning: is_categorical_dtype is deprecated and will be removed in a future version. Use isinstance(dtype, pd.CategoricalDtype) instead\n",
      "  category_name = data[columns].cat.categories[x_value] if pd.api.types.is_categorical_dtype(data[columns]) else data[columns].unique()[x_value]\n"
     ]
    },
    {
     "data": {
      "image/png": "[encoded data removed]",
      "text/plain": [
       "<Figure size 1000x600 with 1 Axes>"
      ]
     },
     "metadata": {},
     "output_type": "display_data"
    }
   ],
   "source": [
    "plot_attrition_by_education(data,'worklifebalance')"
   ]
  },
  {
   "cell_type": "markdown",
   "metadata": {},
   "source": [
    "Attrition by Work-Life Balance:\n",
    "- Employees who report a lower Work-Life Balance (rated bad or better) are more likely to leave the company.\n",
    "- Those with better work-life balance (rated Good or best) tend to stay, reinforcing the importance of maintaining balance for retention."
   ]
  },
  {
   "cell_type": "code",
   "execution_count": 151,
   "metadata": {},
   "outputs": [
    {
     "data": {
      "text/html": [
       "<div>\n",
       "<style scoped>\n",
       "    .dataframe tbody tr th:only-of-type {\n",
       "        vertical-align: middle;\n",
       "    }\n",
       "\n",
       "    .dataframe tbody tr th {\n",
       "        vertical-align: top;\n",
       "    }\n",
       "\n",
       "    .dataframe thead th {\n",
       "        text-align: right;\n",
       "    }\n",
       "</style>\n",
       "<table border=\"1\" class=\"dataframe\">\n",
       "  <thead>\n",
       "    <tr style=\"text-align: right;\">\n",
       "      <th></th>\n",
       "      <th>age</th>\n",
       "      <th>attrition</th>\n",
       "      <th>businesstravel</th>\n",
       "      <th>dailyrate</th>\n",
       "      <th>department</th>\n",
       "      <th>distancefromhome</th>\n",
       "      <th>education</th>\n",
       "      <th>educationfield</th>\n",
       "      <th>employeecount</th>\n",
       "      <th>employeenumber</th>\n",
       "      <th>...</th>\n",
       "      <th>relationshipsatisfaction</th>\n",
       "      <th>standardhours</th>\n",
       "      <th>stockoptionlevel</th>\n",
       "      <th>totalworkingyears</th>\n",
       "      <th>trainingtimeslastyear</th>\n",
       "      <th>worklifebalance</th>\n",
       "      <th>yearsatcompany</th>\n",
       "      <th>yearsincurrentrole</th>\n",
       "      <th>yearssincelastpromotion</th>\n",
       "      <th>yearswithcurrmanager</th>\n",
       "    </tr>\n",
       "  </thead>\n",
       "  <tbody>\n",
       "    <tr>\n",
       "      <th>0</th>\n",
       "      <td>41</td>\n",
       "      <td>yes</td>\n",
       "      <td>travel_rarely</td>\n",
       "      <td>1102</td>\n",
       "      <td>sales</td>\n",
       "      <td>1</td>\n",
       "      <td>college</td>\n",
       "      <td>life_sciences</td>\n",
       "      <td>1</td>\n",
       "      <td>1</td>\n",
       "      <td>...</td>\n",
       "      <td>low</td>\n",
       "      <td>80</td>\n",
       "      <td>0</td>\n",
       "      <td>8</td>\n",
       "      <td>0</td>\n",
       "      <td>bad</td>\n",
       "      <td>6</td>\n",
       "      <td>4</td>\n",
       "      <td>0</td>\n",
       "      <td>5</td>\n",
       "    </tr>\n",
       "    <tr>\n",
       "      <th>1</th>\n",
       "      <td>49</td>\n",
       "      <td>no</td>\n",
       "      <td>travel_frequently</td>\n",
       "      <td>279</td>\n",
       "      <td>research_&amp;_development</td>\n",
       "      <td>8</td>\n",
       "      <td>below_college</td>\n",
       "      <td>life_sciences</td>\n",
       "      <td>1</td>\n",
       "      <td>2</td>\n",
       "      <td>...</td>\n",
       "      <td>very_high</td>\n",
       "      <td>80</td>\n",
       "      <td>1</td>\n",
       "      <td>10</td>\n",
       "      <td>3</td>\n",
       "      <td>better</td>\n",
       "      <td>10</td>\n",
       "      <td>7</td>\n",
       "      <td>1</td>\n",
       "      <td>7</td>\n",
       "    </tr>\n",
       "    <tr>\n",
       "      <th>2</th>\n",
       "      <td>37</td>\n",
       "      <td>yes</td>\n",
       "      <td>travel_rarely</td>\n",
       "      <td>1373</td>\n",
       "      <td>research_&amp;_development</td>\n",
       "      <td>2</td>\n",
       "      <td>college</td>\n",
       "      <td>other</td>\n",
       "      <td>1</td>\n",
       "      <td>4</td>\n",
       "      <td>...</td>\n",
       "      <td>medium</td>\n",
       "      <td>80</td>\n",
       "      <td>0</td>\n",
       "      <td>7</td>\n",
       "      <td>3</td>\n",
       "      <td>better</td>\n",
       "      <td>0</td>\n",
       "      <td>0</td>\n",
       "      <td>0</td>\n",
       "      <td>0</td>\n",
       "    </tr>\n",
       "    <tr>\n",
       "      <th>3</th>\n",
       "      <td>33</td>\n",
       "      <td>no</td>\n",
       "      <td>travel_frequently</td>\n",
       "      <td>1392</td>\n",
       "      <td>research_&amp;_development</td>\n",
       "      <td>3</td>\n",
       "      <td>master</td>\n",
       "      <td>life_sciences</td>\n",
       "      <td>1</td>\n",
       "      <td>5</td>\n",
       "      <td>...</td>\n",
       "      <td>high</td>\n",
       "      <td>80</td>\n",
       "      <td>0</td>\n",
       "      <td>8</td>\n",
       "      <td>3</td>\n",
       "      <td>better</td>\n",
       "      <td>8</td>\n",
       "      <td>7</td>\n",
       "      <td>3</td>\n",
       "      <td>0</td>\n",
       "    </tr>\n",
       "    <tr>\n",
       "      <th>4</th>\n",
       "      <td>27</td>\n",
       "      <td>no</td>\n",
       "      <td>travel_rarely</td>\n",
       "      <td>591</td>\n",
       "      <td>research_&amp;_development</td>\n",
       "      <td>2</td>\n",
       "      <td>below_college</td>\n",
       "      <td>medical</td>\n",
       "      <td>1</td>\n",
       "      <td>7</td>\n",
       "      <td>...</td>\n",
       "      <td>very_high</td>\n",
       "      <td>80</td>\n",
       "      <td>1</td>\n",
       "      <td>6</td>\n",
       "      <td>3</td>\n",
       "      <td>better</td>\n",
       "      <td>2</td>\n",
       "      <td>2</td>\n",
       "      <td>2</td>\n",
       "      <td>2</td>\n",
       "    </tr>\n",
       "  </tbody>\n",
       "</table>\n",
       "<p>5 rows × 35 columns</p>\n",
       "</div>"
      ],
      "text/plain": [
       "   age attrition     businesstravel  dailyrate              department  \\\n",
       "0   41       yes      travel_rarely       1102                   sales   \n",
       "1   49        no  travel_frequently        279  research_&_development   \n",
       "2   37       yes      travel_rarely       1373  research_&_development   \n",
       "3   33        no  travel_frequently       1392  research_&_development   \n",
       "4   27        no      travel_rarely        591  research_&_development   \n",
       "\n",
       "   distancefromhome      education educationfield  employeecount  \\\n",
       "0                 1        college  life_sciences              1   \n",
       "1                 8  below_college  life_sciences              1   \n",
       "2                 2        college          other              1   \n",
       "3                 3         master  life_sciences              1   \n",
       "4                 2  below_college        medical              1   \n",
       "\n",
       "   employeenumber  ... relationshipsatisfaction standardhours  \\\n",
       "0               1  ...                      low            80   \n",
       "1               2  ...                very_high            80   \n",
       "2               4  ...                   medium            80   \n",
       "3               5  ...                     high            80   \n",
       "4               7  ...                very_high            80   \n",
       "\n",
       "   stockoptionlevel totalworkingyears  trainingtimeslastyear worklifebalance  \\\n",
       "0                 0                 8                      0             bad   \n",
       "1                 1                10                      3          better   \n",
       "2                 0                 7                      3          better   \n",
       "3                 0                 8                      3          better   \n",
       "4                 1                 6                      3          better   \n",
       "\n",
       "  yearsatcompany yearsincurrentrole  yearssincelastpromotion  \\\n",
       "0              6                  4                        0   \n",
       "1             10                  7                        1   \n",
       "2              0                  0                        0   \n",
       "3              8                  7                        3   \n",
       "4              2                  2                        2   \n",
       "\n",
       "   yearswithcurrmanager  \n",
       "0                     5  \n",
       "1                     7  \n",
       "2                     0  \n",
       "3                     0  \n",
       "4                     2  \n",
       "\n",
       "[5 rows x 35 columns]"
      ]
     },
     "execution_count": 151,
     "metadata": {},
     "output_type": "execute_result"
    }
   ],
   "source": [
    "data.head()"
   ]
  },
  {
   "cell_type": "markdown",
   "metadata": {},
   "source": [
    "# Multivariate Analysis"
   ]
  },
  {
   "cell_type": "code",
   "execution_count": 152,
   "metadata": {},
   "outputs": [],
   "source": [
    "\n",
    "def plot_age_distribution_by_gender_and_attrition(data):\n",
    "    \"\"\"\n",
    "    Plots a violin plot of age distribution by gender with attrition status overlay.\n",
    "    \n",
    "    Parameters:\n",
    "    data (DataFrame): The DataFrame containing 'age', 'gender', and 'attrition' columns.\n",
    "    \"\"\"\n",
    "    plt.figure(figsize=(10, 6))\n",
    "    sns.violinplot(data=data, x='gender', y='age', hue='attrition', split=True, palette='coolwarm')\n",
    "    \n",
    "    plt.title('Age Distribution Among Genders and Attrition Status')\n",
    "    plt.xlabel('Gender')\n",
    "    plt.ylabel('Age')\n",
    "    plt.grid(axis='y', alpha=0.75)\n",
    "    plt.legend(title='Attrition', loc='upper left')\n",
    "    plt.show()"
   ]
  },
  {
   "cell_type": "code",
   "execution_count": 153,
   "metadata": {},
   "outputs": [
    {
     "data": {
      "image/png": "[encoded data removed]",
      "text/plain": [
       "<Figure size 1000x600 with 1 Axes>"
      ]
     },
     "metadata": {},
     "output_type": "display_data"
    },
    {
     "data": {
      "text/plain": [
       "<Figure size 640x480 with 0 Axes>"
      ]
     },
     "metadata": {},
     "output_type": "display_data"
    }
   ],
   "source": [
    "plot_age_distribution_by_gender_and_attrition(data)\n",
    "plt.savefig(\"../images/age_distribution_by.pdf\")"
   ]
  },
  {
   "cell_type": "markdown",
   "metadata": {},
   "source": [
    "\n",
    "\n",
    "- Age and Attrition:\n",
    "  - Younger employees (20s to early 30s), regardless of gender, are more likely to leave the company. This might indicate higher turnover rates among younger employees.\n",
    "- Gender Differences:\n",
    "  - The attrition pattern between genders appears similar, with slightly higher density for younger females leaving compared to younger males.\n",
    "- Employees in their 30s and above show a stronger tendency to stay (orange color dominance) across both genders."
   ]
  },
  {
   "cell_type": "markdown",
   "metadata": {},
   "source": [
    "*Key Insights & Recommendations:*\n",
    "\n",
    "- Focus on Employee Retention: Roles like Sales Representatives and younger \n",
    "  employees should be key focus areas for improving retention.\n",
    "- Work-Life Balance: High overtime work is a likely factor driving attrition,\n",
    "   so introducing policies to promote work-life balance could reduce turnover.\n",
    "- Career Development Programs: Younger employees and those with lower education levels\n",
    " could benefit from mentorship and career development programs to increase engagement and reduce attrition.\n",
    "- Diversity Initiatives: The gender imbalance suggests the need for stronger diversity\n",
    "  and inclusion efforts, especially in recruitment and retention strategies."
   ]
  },
  {
   "cell_type": "markdown",
   "metadata": {},
   "source": []
  }
 ],
 "metadata": {
  "celltoolbar": "Slideshow",
  "kernelspec": {
   "display_name": "Python 3 (ipykernel)",
   "language": "python",
   "name": "python3"
  },
  "language_info": {
   "codemirror_mode": {
    "name": "ipython",
    "version": 3
   },
   "file_extension": ".py",
   "mimetype": "text/x-python",
   "name": "python",
   "nbconvert_exporter": "python",
   "pygments_lexer": "ipython3",
   "version": "3.9.19"
  }
 },
 "nbformat": 4,
 "nbformat_minor": 4
}
